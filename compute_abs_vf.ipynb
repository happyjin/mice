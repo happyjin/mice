{
 "cells": [
  {
   "cell_type": "code",
   "execution_count": 1,
   "metadata": {},
   "outputs": [],
   "source": [
    "import numpy as np\n",
    "import matplotlib.pyplot as plt\n",
    "import deepdish as dd"
   ]
  },
  {
   "cell_type": "markdown",
   "metadata": {},
   "source": [
    "### load data"
   ]
  },
  {
   "cell_type": "code",
   "execution_count": 4,
   "metadata": {},
   "outputs": [],
   "source": [
    "vector_field = dd.io.load('vector_fields.h5')"
   ]
  },
  {
   "cell_type": "code",
   "execution_count": 5,
   "metadata": {},
   "outputs": [
    {
     "data": {
      "text/plain": [
       "(105, 4, 840, 840)"
      ]
     },
     "execution_count": 5,
     "metadata": {},
     "output_type": "execute_result"
    }
   ],
   "source": [
    "vector_field.shape"
   ]
  },
  {
   "cell_type": "markdown",
   "metadata": {},
   "source": [
    "### create abs distance matrices"
   ]
  },
  {
   "cell_type": "code",
   "execution_count": 6,
   "metadata": {},
   "outputs": [],
   "source": [
    "abs_distance = np.zeros_like(vector_field)"
   ]
  },
  {
   "cell_type": "markdown",
   "metadata": {},
   "source": [
    "### 4 channels meaning: (dxh, dyh, dxt, dyt)"
   ]
  },
  {
   "cell_type": "code",
   "execution_count": 7,
   "metadata": {},
   "outputs": [
    {
     "data": {
      "text/plain": [
       "(105, 4, 840, 840)"
      ]
     },
     "execution_count": 7,
     "metadata": {},
     "output_type": "execute_result"
    }
   ],
   "source": [
    "abs_distance.shape"
   ]
  },
  {
   "cell_type": "markdown",
   "metadata": {},
   "source": [
    "### compute abs distance"
   ]
  },
  {
   "cell_type": "code",
   "execution_count": 22,
   "metadata": {},
   "outputs": [],
   "source": [
    "def compute_abs_dist(abs_distance):\n",
    "    pad_distance = np.arange(abs_distance.shape[2])\n",
    "    n_repeat = abs_distance.shape[2]\n",
    "    n_data = abs_distance.shape[0]\n",
    "    \n",
    "    for i in range(n_data):\n",
    "        abs_distance[i][1] = abs_distance[i][3] = np.repeat(pad_distance.reshape(-1,1), n_repeat, axis=1)\n",
    "        abs_distance[i][0] = abs_distance[i][2] = np.repeat(pad_distance.reshape(1,-1), n_repeat, axis=0)\n",
    "    \n",
    "    return abs_distance"
   ]
  },
  {
   "cell_type": "code",
   "execution_count": 23,
   "metadata": {},
   "outputs": [],
   "source": [
    "abs_distance = compute_abs_dist(abs_distance)"
   ]
  },
  {
   "cell_type": "markdown",
   "metadata": {},
   "source": [
    "### add abs distance to vector field"
   ]
  },
  {
   "cell_type": "code",
   "execution_count": 24,
   "metadata": {},
   "outputs": [],
   "source": [
    "abs_vf = vector_field + abs_distance"
   ]
  },
  {
   "cell_type": "markdown",
   "metadata": {},
   "source": [
    "### compare abs_vf location with labels in labeled data e.g. labeled_data[0] and abs_vf[0]"
   ]
  },
  {
   "cell_type": "code",
   "execution_count": 86,
   "metadata": {},
   "outputs": [],
   "source": [
    "labeled_data = dd.io.load('clean_labeled_data.h5')"
   ]
  },
  {
   "cell_type": "code",
   "execution_count": 87,
   "metadata": {},
   "outputs": [
    {
     "data": {
      "text/plain": [
       "(105, 840, 840)"
      ]
     },
     "execution_count": 87,
     "metadata": {},
     "output_type": "execute_result"
    }
   ],
   "source": [
    "labeled_data.shape"
   ]
  },
  {
   "cell_type": "code",
   "execution_count": 229,
   "metadata": {},
   "outputs": [],
   "source": [
    "# get abs_vf key point indeces\n",
    "def get_indeces(matrix):\n",
    "    n_channel = matrix.shape[0]\n",
    "    x_indeces = []\n",
    "    y_indeces = []\n",
    "    \n",
    "    x_indeces.append(np.concatenate((np.unique(matrix[0]), np.unique(matrix[2]))))\n",
    "    y_indeces.append(np.concatenate((np.unique(matrix[1]), np.unique(matrix[3]))))\n",
    "    \n",
    "    return np.unique(np.array(x_indeces).reshape(1,-1)).astype(np.int64), np.unique(np.array(y_indeces).reshape(1,-1)).astype(np.int64)"
   ]
  },
  {
   "cell_type": "markdown",
   "metadata": {},
   "source": [
    "### verify if abs+vector_field is equivelent to coordinates of key_points for origional dataset"
   ]
  },
  {
   "cell_type": "code",
   "execution_count": 239,
   "metadata": {},
   "outputs": [],
   "source": [
    "def verify_identical(labeled_data, abs_vf):\n",
    "    n_data = len(abs_vf)\n",
    "    n_error = 0\n",
    "    \n",
    "    for i in range(n_data):\n",
    "        labeled_indeces = np.where(labeled_data[i]!=0)\n",
    "        x_indeces, y_indeces = get_indeces(abs_vf[i])\n",
    "        if np.setdiff1d(np.unique(labeled_indeces[0]), x_indeces).size!=0 or np.setdiff1d(np.unique(labeled_indeces[1]), y_indeces).size!=0:\n",
    "            print(i)\n",
    "            n_error += 1\n",
    "    \n",
    "    if n_error == 0:\n",
    "        print('all abs+vf are identical to indeces in labeled_data!')"
   ]
  },
  {
   "cell_type": "code",
   "execution_count": 240,
   "metadata": {},
   "outputs": [
    {
     "name": "stdout",
     "output_type": "stream",
     "text": [
      "all abs+vf are identical to indeces in labeled_data!\n"
     ]
    }
   ],
   "source": [
    "verify_identical(labeled_data, abs_vf)"
   ]
  },
  {
   "cell_type": "code",
   "execution_count": null,
   "metadata": {},
   "outputs": [],
   "source": []
  }
 ],
 "metadata": {
  "kernelspec": {
   "display_name": "Python 3",
   "language": "python",
   "name": "python3"
  },
  "language_info": {
   "codemirror_mode": {
    "name": "ipython",
    "version": 3
   },
   "file_extension": ".py",
   "mimetype": "text/x-python",
   "name": "python",
   "nbconvert_exporter": "python",
   "pygments_lexer": "ipython3",
   "version": "3.6.3"
  }
 },
 "nbformat": 4,
 "nbformat_minor": 2
}
