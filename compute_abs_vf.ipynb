{
 "cells": [
  {
   "cell_type": "code",
   "execution_count": 1,
   "metadata": {},
   "outputs": [],
   "source": [
    "import numpy as np\n",
    "import matplotlib.pyplot as plt\n",
    "import deepdish as dd"
   ]
  },
  {
   "cell_type": "markdown",
   "metadata": {},
   "source": [
    "### load data"
   ]
  },
  {
   "cell_type": "code",
   "execution_count": 2,
   "metadata": {},
   "outputs": [],
   "source": [
    "vector_field = dd.io.load('vector_fields.h5')"
   ]
  },
  {
   "cell_type": "code",
   "execution_count": 3,
   "metadata": {},
   "outputs": [
    {
     "data": {
      "text/plain": [
       "(105, 4, 840, 840)"
      ]
     },
     "execution_count": 3,
     "metadata": {},
     "output_type": "execute_result"
    }
   ],
   "source": [
    "vector_field.shape"
   ]
  },
  {
   "cell_type": "markdown",
   "metadata": {},
   "source": [
    "### create abs distance matrices"
   ]
  },
  {
   "cell_type": "code",
   "execution_count": 4,
   "metadata": {},
   "outputs": [],
   "source": [
    "abs_distance = np.zeros_like(vector_field)"
   ]
  },
  {
   "cell_type": "markdown",
   "metadata": {},
   "source": [
    "### 4 channels meaning: (dxh, dyh, dxt, dyt)"
   ]
  },
  {
   "cell_type": "code",
   "execution_count": 5,
   "metadata": {},
   "outputs": [
    {
     "data": {
      "text/plain": [
       "(105, 4, 840, 840)"
      ]
     },
     "execution_count": 5,
     "metadata": {},
     "output_type": "execute_result"
    }
   ],
   "source": [
    "abs_distance.shape"
   ]
  },
  {
   "cell_type": "markdown",
   "metadata": {},
   "source": [
    "### compute abs distance"
   ]
  },
  {
   "cell_type": "code",
   "execution_count": 6,
   "metadata": {},
   "outputs": [],
   "source": [
    "def compute_abs_dist(abs_distance):\n",
    "    pad_distance = np.arange(abs_distance.shape[2])\n",
    "    n_repeat = abs_distance.shape[2]\n",
    "    n_data = abs_distance.shape[0]\n",
    "    \n",
    "    for i in range(n_data):\n",
    "        abs_distance[i][0] = abs_distance[i][2] = np.repeat(pad_distance.reshape(-1,1), n_repeat, axis=1)\n",
    "        abs_distance[i][1] = abs_distance[i][3] = np.repeat(pad_distance.reshape(1,-1), n_repeat, axis=0)\n",
    "    \n",
    "    return abs_distance"
   ]
  },
  {
   "cell_type": "code",
   "execution_count": 7,
   "metadata": {},
   "outputs": [],
   "source": [
    "abs_distance = compute_abs_dist(abs_distance)"
   ]
  },
  {
   "cell_type": "markdown",
   "metadata": {},
   "source": [
    "### add abs distance to vector field"
   ]
  },
  {
   "cell_type": "code",
   "execution_count": 8,
   "metadata": {},
   "outputs": [],
   "source": [
    "abs_vf = vector_field + abs_distance"
   ]
  },
  {
   "cell_type": "code",
   "execution_count": 13,
   "metadata": {},
   "outputs": [
    {
     "data": {
      "text/plain": [
       "array([[[  527.,   526.,   525., ...,  -212.,  -213.,  -214.],\n",
       "        [  528.,   527.,   526., ...,  -211.,  -212.,  -213.],\n",
       "        [  529.,   528.,   527., ...,  -210.,  -211.,  -212.],\n",
       "        ..., \n",
       "        [ 1364.,  1363.,  1362., ...,   625.,   624.,   623.],\n",
       "        [ 1365.,  1364.,  1363., ...,   626.,   625.,   624.],\n",
       "        [ 1366.,  1365.,  1364., ...,   627.,   626.,   625.]],\n",
       "\n",
       "       [[  304.,   305.,   306., ...,  1485.,  1486.,  1487.],\n",
       "        [  303.,   304.,   305., ...,  1484.,  1485.,  1486.],\n",
       "        [  302.,   303.,   304., ...,  1483.,  1484.,  1485.],\n",
       "        ..., \n",
       "        [ -533.,  -532.,  -531., ...,   648.,   649.,   650.],\n",
       "        [ -534.,  -533.,  -532., ...,   647.,   648.,   649.],\n",
       "        [ -535.,  -534.,  -533., ...,   646.,   647.,   648.]],\n",
       "\n",
       "       [[  612.,   611.,   610., ...,  -142.,  -143.,  -144.],\n",
       "        [  613.,   612.,   611., ...,  -141.,  -142.,  -143.],\n",
       "        [  614.,   613.,   612., ...,  -140.,  -141.,  -142.],\n",
       "        ..., \n",
       "        [ 1449.,  1448.,  1447., ...,   695.,   694.,   693.],\n",
       "        [ 1450.,  1449.,  1448., ...,   696.,   695.,   694.],\n",
       "        [ 1451.,  1450.,  1449., ...,   697.,   696.,   695.]],\n",
       "\n",
       "       [[  317.,   318.,   319., ...,  1442.,  1443.,  1444.],\n",
       "        [  316.,   317.,   318., ...,  1441.,  1442.,  1443.],\n",
       "        [  315.,   316.,   317., ...,  1440.,  1441.,  1442.],\n",
       "        ..., \n",
       "        [ -520.,  -519.,  -518., ...,   605.,   606.,   607.],\n",
       "        [ -521.,  -520.,  -519., ...,   604.,   605.,   606.],\n",
       "        [ -522.,  -521.,  -520., ...,   603.,   604.,   605.]]])"
      ]
     },
     "execution_count": 13,
     "metadata": {},
     "output_type": "execute_result"
    }
   ],
   "source": [
    "abs_vf[0]"
   ]
  },
  {
   "cell_type": "code",
   "execution_count": 14,
   "metadata": {},
   "outputs": [
    {
     "data": {
      "text/plain": [
       "array([[[ 527.,  526.,  525., ..., -212., -213., -214.],\n",
       "        [ 527.,  526.,  525., ..., -212., -213., -214.],\n",
       "        [ 527.,  526.,  525., ..., -212., -213., -214.],\n",
       "        ..., \n",
       "        [ 527.,  526.,  525., ..., -212., -213., -214.],\n",
       "        [ 527.,  526.,  525., ..., -212., -213., -214.],\n",
       "        [ 527.,  526.,  525., ..., -212., -213., -214.]],\n",
       "\n",
       "       [[ 304.,  304.,  304., ...,  648.,  648.,  648.],\n",
       "        [ 303.,  303.,  303., ...,  647.,  647.,  647.],\n",
       "        [ 302.,  302.,  302., ...,  646.,  646.,  646.],\n",
       "        ..., \n",
       "        [-533., -533., -533., ..., -189., -189., -189.],\n",
       "        [-534., -534., -534., ..., -190., -190., -190.],\n",
       "        [-535., -535., -535., ..., -191., -191., -191.]],\n",
       "\n",
       "       [[ 612.,  611.,  610., ..., -142., -143., -144.],\n",
       "        [ 612.,  611.,  610., ..., -142., -143., -144.],\n",
       "        [ 612.,  611.,  610., ..., -142., -143., -144.],\n",
       "        ..., \n",
       "        [ 612.,  611.,  610., ..., -142., -143., -144.],\n",
       "        [ 612.,  611.,  610., ..., -142., -143., -144.],\n",
       "        [ 612.,  611.,  610., ..., -142., -143., -144.]],\n",
       "\n",
       "       [[ 317.,  317.,  317., ...,  605.,  605.,  605.],\n",
       "        [ 316.,  316.,  316., ...,  604.,  604.,  604.],\n",
       "        [ 315.,  315.,  315., ...,  603.,  603.,  603.],\n",
       "        ..., \n",
       "        [-520., -520., -520., ..., -232., -232., -232.],\n",
       "        [-521., -521., -521., ..., -233., -233., -233.],\n",
       "        [-522., -522., -522., ..., -234., -234., -234.]]])"
      ]
     },
     "execution_count": 14,
     "metadata": {},
     "output_type": "execute_result"
    }
   ],
   "source": [
    "vector_field[0]"
   ]
  },
  {
   "cell_type": "code",
   "execution_count": 16,
   "metadata": {},
   "outputs": [
    {
     "data": {
      "text/plain": [
       "array([[[  527.,   526.,   525., ...,  -212.,  -213.,  -214.],\n",
       "        [  528.,   527.,   526., ...,  -211.,  -212.,  -213.],\n",
       "        [  529.,   528.,   527., ...,  -210.,  -211.,  -212.],\n",
       "        ..., \n",
       "        [ 1364.,  1363.,  1362., ...,   625.,   624.,   623.],\n",
       "        [ 1365.,  1364.,  1363., ...,   626.,   625.,   624.],\n",
       "        [ 1366.,  1365.,  1364., ...,   627.,   626.,   625.]],\n",
       "\n",
       "       [[  304.,   305.,   306., ...,  1485.,  1486.,  1487.],\n",
       "        [  303.,   304.,   305., ...,  1484.,  1485.,  1486.],\n",
       "        [  302.,   303.,   304., ...,  1483.,  1484.,  1485.],\n",
       "        ..., \n",
       "        [ -533.,  -532.,  -531., ...,   648.,   649.,   650.],\n",
       "        [ -534.,  -533.,  -532., ...,   647.,   648.,   649.],\n",
       "        [ -535.,  -534.,  -533., ...,   646.,   647.,   648.]],\n",
       "\n",
       "       [[  612.,   611.,   610., ...,  -142.,  -143.,  -144.],\n",
       "        [  613.,   612.,   611., ...,  -141.,  -142.,  -143.],\n",
       "        [  614.,   613.,   612., ...,  -140.,  -141.,  -142.],\n",
       "        ..., \n",
       "        [ 1449.,  1448.,  1447., ...,   695.,   694.,   693.],\n",
       "        [ 1450.,  1449.,  1448., ...,   696.,   695.,   694.],\n",
       "        [ 1451.,  1450.,  1449., ...,   697.,   696.,   695.]],\n",
       "\n",
       "       [[  317.,   318.,   319., ...,  1442.,  1443.,  1444.],\n",
       "        [  316.,   317.,   318., ...,  1441.,  1442.,  1443.],\n",
       "        [  315.,   316.,   317., ...,  1440.,  1441.,  1442.],\n",
       "        ..., \n",
       "        [ -520.,  -519.,  -518., ...,   605.,   606.,   607.],\n",
       "        [ -521.,  -520.,  -519., ...,   604.,   605.,   606.],\n",
       "        [ -522.,  -521.,  -520., ...,   603.,   604.,   605.]]])"
      ]
     },
     "execution_count": 16,
     "metadata": {},
     "output_type": "execute_result"
    }
   ],
   "source": [
    "vector_field[0] + abs_distance[0]"
   ]
  },
  {
   "cell_type": "code",
   "execution_count": null,
   "metadata": {},
   "outputs": [],
   "source": []
  }
 ],
 "metadata": {
  "kernelspec": {
   "display_name": "Python 3",
   "language": "python",
   "name": "python3"
  },
  "language_info": {
   "codemirror_mode": {
    "name": "ipython",
    "version": 3
   },
   "file_extension": ".py",
   "mimetype": "text/x-python",
   "name": "python",
   "nbconvert_exporter": "python",
   "pygments_lexer": "ipython3",
   "version": "3.6.3"
  }
 },
 "nbformat": 4,
 "nbformat_minor": 2
}
