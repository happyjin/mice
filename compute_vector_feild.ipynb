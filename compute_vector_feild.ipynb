{
 "cells": [
  {
   "cell_type": "code",
   "execution_count": 35,
   "metadata": {
    "collapsed": true
   },
   "outputs": [],
   "source": [
    "import numpy as np\n",
    "import deepdish as dd\n",
    "import h5py"
   ]
  },
  {
   "cell_type": "code",
   "execution_count": 15,
   "metadata": {
    "collapsed": true
   },
   "outputs": [],
   "source": [
    "data = dd.io.load('clean_labeled_data.h5')"
   ]
  },
  {
   "cell_type": "code",
   "execution_count": 16,
   "metadata": {},
   "outputs": [
    {
     "data": {
      "text/plain": [
       "(105, 840, 840)"
      ]
     },
     "execution_count": 16,
     "metadata": {},
     "output_type": "execute_result"
    }
   ],
   "source": [
    "data.shape"
   ]
  },
  {
   "cell_type": "markdown",
   "metadata": {},
   "source": [
    "## compute vector field for different mouse (i.e. key points)"
   ]
  },
  {
   "cell_type": "code",
   "execution_count": 457,
   "metadata": {
    "collapsed": true
   },
   "outputs": [],
   "source": [
    "def compute_vector_field(data, key_points):\n",
    "    n_data = data.shape[0]\n",
    "    n_row = data.shape[1]\n",
    "    n_col = data.shape[2]\n",
    "    \n",
    "    one_row = np.arange(n_col)\n",
    "    one_col = np.arange(n_row)\n",
    "    \n",
    "    vector_field = np.zeros(shape=(n_data, 16, n_row, n_col))\n",
    "    print(vector_field.shape)\n",
    "    \n",
    "    for i in range(n_data):\n",
    "        k = 0\n",
    "        for j in range(len(key_points)):\n",
    "            coordinate = np.where(data[i] == key_points[j])\n",
    "            dx_row = (coordinate[0] - one_row).reshape(1, -1)\n",
    "            dx_col = (coordinate[1] - one_col).reshape(-1, 1)\n",
    "            dx = dx_row.repeat(n_row, axis=0)\n",
    "            vector_field[i,k] = dx\n",
    "            k += 1\n",
    "            dy = dx_col.repeat(n_col, axis=1)\n",
    "            vector_field[i,k] = dy\n",
    "            k += 1\n",
    "    return vector_field\n",
    "    \n",
    "    \"\"\"\n",
    "    # one possible strategy\n",
    "    file_name = 'vector_field.h5'\n",
    "    dd.io.save(file_name, vector_field)    \n",
    "    \"\"\"\n",
    "    \n",
    "\n",
    "    \"\"\"\n",
    "    # another possible strategy\n",
    "    print(\"loop finished!\")\n",
    "    print(\"begin to convert list to numpy array...\")\n",
    "    print(\"convert successfully!\")\n",
    "    print(\"begin to save file...\")\n",
    "    file_name = 'vector_field.h5'\n",
    "    h5f = h5py.File(file_name, 'w')\n",
    "    h5f.create_dataset('vector_field_dataset', data=vector_field)\n",
    "    h5f.close()\n",
    "    print(\"save file successfully!!!\")    \n",
    "    \"\"\"\n"
   ]
  },
  {
   "cell_type": "code",
   "execution_count": 276,
   "metadata": {
    "collapsed": true
   },
   "outputs": [],
   "source": [
    "n_mice = 4\n",
    "n_key_points = 2 # number of key points for each mouse\n",
    "key_points = np.arange(n_key_points * n_mice) + 1"
   ]
  },
  {
   "cell_type": "code",
   "execution_count": 209,
   "metadata": {},
   "outputs": [
    {
     "data": {
      "text/plain": [
       "array([1, 2, 3, 4, 5, 6, 7, 8])"
      ]
     },
     "execution_count": 209,
     "metadata": {},
     "output_type": "execute_result"
    }
   ],
   "source": [
    "key_points"
   ]
  },
  {
   "cell_type": "code",
   "execution_count": 210,
   "metadata": {},
   "outputs": [
    {
     "name": "stdout",
     "output_type": "stream",
     "text": [
      "(3, 16, 840, 840)\n"
     ]
    }
   ],
   "source": [
    "vector_field = compute_vector_field(data, key_points)"
   ]
  },
  {
   "cell_type": "markdown",
   "metadata": {},
   "source": [
    "vector_field.shape = (n_data, n_distance, n_rows, n_cols)\n",
    "<br>\n",
    "16 = (dxh+dyh+dxt+dyt)*four_mice"
   ]
  },
  {
   "cell_type": "code",
   "execution_count": 211,
   "metadata": {},
   "outputs": [
    {
     "data": {
      "text/plain": [
       "(3, 16, 840, 840)"
      ]
     },
     "execution_count": 211,
     "metadata": {},
     "output_type": "execute_result"
    }
   ],
   "source": [
    "vector_field.shape"
   ]
  },
  {
   "cell_type": "code",
   "execution_count": 212,
   "metadata": {},
   "outputs": [
    {
     "name": "stdout",
     "output_type": "stream",
     "text": [
      "(16, 840, 840)\n"
     ]
    }
   ],
   "source": [
    "print(vector_field[0].shape)"
   ]
  },
  {
   "cell_type": "markdown",
   "metadata": {
    "collapsed": true
   },
   "source": [
    "## compute Euclidean distances"
   ]
  },
  {
   "cell_type": "code",
   "execution_count": 224,
   "metadata": {
    "collapsed": true
   },
   "outputs": [],
   "source": [
    "square_distances = vector_field**2"
   ]
  },
  {
   "cell_type": "markdown",
   "metadata": {},
   "source": [
    "compute euclidean distance"
   ]
  },
  {
   "cell_type": "code",
   "execution_count": 253,
   "metadata": {
    "collapsed": true
   },
   "outputs": [],
   "source": [
    "def compute_euclidean(square_distances, n_key_points, n_mice):\n",
    "    n_data = square_distances.shape[0]\n",
    "    n_maps = square_distances.shape[1]\n",
    "    n_rows = square_distances.shape[2]\n",
    "    n_cols = square_distances.shape[3]\n",
    "\n",
    "    euclidean_distances = np.zeros(shape=(n_data, n_key_points * n_mice, n_rows, n_cols))\n",
    "    for i in range(n_data):\n",
    "        k = 0\n",
    "        for j in range(n_maps // 2):\n",
    "            # add x_distance with y_distance in order to get euclidean distance for each mouse\n",
    "            euclidean_distances[i, j] = square_distances[i, k] + square_distances[i, k+1]\n",
    "            k += 2\n",
    "    return euclidean_distances"
   ]
  },
  {
   "cell_type": "code",
   "execution_count": 254,
   "metadata": {},
   "outputs": [],
   "source": [
    "euclidean_distances = compute_euclidean(square_distances, n_key_points, n_mice)"
   ]
  },
  {
   "cell_type": "markdown",
   "metadata": {},
   "source": [
    "8 of euclidean_distances.shape = (euclidean_head+euclidean_tail)*n_mice"
   ]
  },
  {
   "cell_type": "code",
   "execution_count": 256,
   "metadata": {},
   "outputs": [
    {
     "data": {
      "text/plain": [
       "(3, 8, 840, 840)"
      ]
     },
     "execution_count": 256,
     "metadata": {},
     "output_type": "execute_result"
    }
   ],
   "source": [
    "euclidean_distances.shape"
   ]
  },
  {
   "cell_type": "markdown",
   "metadata": {},
   "source": [
    "add head and tail euclidean distance for all pixels"
   ]
  },
  {
   "cell_type": "code",
   "execution_count": 328,
   "metadata": {},
   "outputs": [],
   "source": [
    "def compute_total_distance(euclidean_distances, n_mice):\n",
    "    n_data = square_distances.shape[0]\n",
    "    n_rows = square_distances.shape[2]\n",
    "    n_cols = square_distances.shape[3]\n",
    "    total_distance = np.zeros(shape=(n_data, n_mice, n_rows, n_cols))\n",
    "    \n",
    "    for i in range(n_data):\n",
    "        k = 0\n",
    "        for j in range(n_mice):\n",
    "            total_distance[i, j] = euclidean_distances[i, k] + euclidean_distances[i, k+1]\n",
    "            k += 2\n",
    "    return total_distance"
   ]
  },
  {
   "cell_type": "code",
   "execution_count": 329,
   "metadata": {},
   "outputs": [],
   "source": [
    "total_distance = compute_total_distance(euclidean_distances, n_mice)"
   ]
  },
  {
   "cell_type": "markdown",
   "metadata": {},
   "source": [
    "total_distance.shape = (n_data, n_mice, n_rows, n_columns)"
   ]
  },
  {
   "cell_type": "code",
   "execution_count": 330,
   "metadata": {},
   "outputs": [
    {
     "data": {
      "text/plain": [
       "(3, 4, 840, 840)"
      ]
     },
     "execution_count": 330,
     "metadata": {},
     "output_type": "execute_result"
    }
   ],
   "source": [
    "total_distance.shape"
   ]
  },
  {
   "cell_type": "markdown",
   "metadata": {},
   "source": [
    "find the minimum total distance (i.e. to head distance and to tail distance) from four mice"
   ]
  },
  {
   "cell_type": "code",
   "execution_count": 398,
   "metadata": {
    "collapsed": true
   },
   "outputs": [],
   "source": [
    "def find_min_dist(total_distance):\n",
    "    n_data = total_distance.shape[0]\n",
    "    n_rows = square_distances.shape[2]\n",
    "    n_cols = square_distances.shape[3]    \n",
    "    min_distances = np.zeros(shape=(n_data, n_rows, n_cols))\n",
    "    \n",
    "    for i in range(n_data):\n",
    "        min_distances[i] = total_distance[i].T.min(2)\n",
    "    return min_distances"
   ]
  },
  {
   "cell_type": "code",
   "execution_count": 400,
   "metadata": {},
   "outputs": [],
   "source": [
    "min_distances = find_min_dist(total_distance)"
   ]
  },
  {
   "cell_type": "code",
   "execution_count": 405,
   "metadata": {},
   "outputs": [
    {
     "data": {
      "text/plain": [
       "array([[ 845178.,  843938.,  842702., ...,  963195.,  964039.,  964887.],\n",
       "       [ 842902.,  841662.,  840426., ...,  960557.,  961401.,  962249.],\n",
       "       [ 840630.,  839390.,  838154., ...,  957923.,  958767.,  959615.],\n",
       "       ..., \n",
       "       [ 339630.,  338390.,  337154., ...,  154653.,  155497.,  156345.],\n",
       "       [ 340702.,  339462.,  338226., ...,  155363.,  156207.,  157055.],\n",
       "       [ 341778.,  340538.,  339302., ...,  156077.,  156921.,  157769.]])"
      ]
     },
     "execution_count": 405,
     "metadata": {},
     "output_type": "execute_result"
    }
   ],
   "source": [
    "min_distances[0]"
   ]
  },
  {
   "cell_type": "markdown",
   "metadata": {},
   "source": [
    "find argmin, namely belonging mice, w.r.t. minimum of total distance to head and tail"
   ]
  },
  {
   "cell_type": "code",
   "execution_count": 391,
   "metadata": {
    "collapsed": true
   },
   "outputs": [],
   "source": [
    "def choose_mouse(total_distance):\n",
    "    n_data = total_distance.shape[0]\n",
    "    n_rows = square_distances.shape[2]\n",
    "    n_cols = square_distances.shape[3]    \n",
    "    belong_mice = np.zeros(shape=(n_data, n_rows, n_cols))\n",
    "    \n",
    "    for i in range(n_data):\n",
    "        belong_mice[i] = total_distance[i].T.argmin(2)\n",
    "    return belong_mice"
   ]
  },
  {
   "cell_type": "markdown",
   "metadata": {},
   "source": [
    "Note: [0,1,2,3] in belonging mice corresponding to mice[1,2,3,4] in the vector field"
   ]
  },
  {
   "cell_type": "code",
   "execution_count": 392,
   "metadata": {},
   "outputs": [],
   "source": [
    "belong_mice = choose_mouse(total_distance)"
   ]
  },
  {
   "cell_type": "markdown",
   "metadata": {},
   "source": [
    "belong_mice.shape = (n_data, n_rows, n_columns)"
   ]
  },
  {
   "cell_type": "code",
   "execution_count": 541,
   "metadata": {},
   "outputs": [
    {
     "data": {
      "text/plain": [
       "(3, 840, 840)"
      ]
     },
     "execution_count": 541,
     "metadata": {},
     "output_type": "execute_result"
    }
   ],
   "source": [
    "belong_mice.shape"
   ]
  },
  {
   "cell_type": "markdown",
   "metadata": {},
   "source": [
    "compute vector fields with minimum euclidean distance w.r.t. head and tile"
   ]
  },
  {
   "cell_type": "code",
   "execution_count": 561,
   "metadata": {},
   "outputs": [],
   "source": [
    "def min_vector_field(vector_field, belong_mice, n_mice):\n",
    "    n_data = vector_field.shape[0]\n",
    "    n_rows = vector_field.shape[2]\n",
    "    n_cols = vector_field.shape[3]\n",
    "    n_maps = 4 # contains dxh,dyh,dxt,dyt\n",
    "    min_vec_fields = np.zeros(shape=(n_data, n_maps, n_rows, n_cols))\n",
    "    \n",
    "    k = 0 # minimum vector filed index for [dxh,dyh,dxt,dyt]\n",
    "    for i in range(n_data):\n",
    "        for j in range(n_mice):\n",
    "            coordinates = np.where(belong_mice[i] == j)\n",
    "            min_vec_fields[i][k][coordinates] = vector_field[i][4*j][coordinates].copy()\n",
    "            min_vec_fields[i][k+1][coordinates] = vector_field[i][4*j+1][coordinates].copy()\n",
    "            min_vec_fields[i][k+2][coordinates] = vector_field[i][4*j+2][coordinates].copy()\n",
    "            min_vec_fields[i][k+3][coordinates] = vector_field[i][4*j+3][coordinates].copy()\n",
    "    return min_vec_fields"
   ]
  },
  {
   "cell_type": "code",
   "execution_count": 562,
   "metadata": {},
   "outputs": [],
   "source": [
    "min_vec_fields = min_vector_field(vector_field, belong_mice, n_mice)"
   ]
  },
  {
   "cell_type": "markdown",
   "metadata": {},
   "source": [
    "min_vec_fields.shape = (n_data, n_maps, n_rows, n_columns)\n",
    "<br>\n",
    "Note: n_maps = [dxh, dyh, dxt, dyt]"
   ]
  },
  {
   "cell_type": "code",
   "execution_count": 563,
   "metadata": {},
   "outputs": [
    {
     "data": {
      "text/plain": [
       "(3, 4, 840, 840)"
      ]
     },
     "execution_count": 563,
     "metadata": {},
     "output_type": "execute_result"
    }
   ],
   "source": [
    "min_vec_fields.shape"
   ]
  },
  {
   "cell_type": "markdown",
   "metadata": {},
   "source": [
    "## save minimum vector fields"
   ]
  },
  {
   "cell_type": "code",
   "execution_count": null,
   "metadata": {
    "collapsed": true
   },
   "outputs": [],
   "source": [
    "file_name = 'vector_fields.h5'\n",
    "dd.io.save(file_name, min_vec_fields)"
   ]
  },
  {
   "cell_type": "code",
   "execution_count": 564,
   "metadata": {
    "collapsed": true
   },
   "outputs": [],
   "source": [
    "import matplotlib.pyplot as plt"
   ]
  },
  {
   "cell_type": "code",
   "execution_count": 577,
   "metadata": {},
   "outputs": [
    {
     "data": {
      "image/png": "[encoded data removed]",
      "text/plain": [
       "<matplotlib.figure.Figure at 0x1270f3be0>"
      ]
     },
     "metadata": {},
     "output_type": "display_data"
    }
   ],
   "source": [
    "plt.imshow(np.abs(min_vec_fields[0][0]))\n",
    "plt.show()"
   ]
  },
  {
   "cell_type": "code",
   "execution_count": 576,
   "metadata": {},
   "outputs": [
    {
     "data": {
      "image/png": "[encoded data removed]",
      "text/plain": [
       "<matplotlib.figure.Figure at 0x11228b4a8>"
      ]
     },
     "metadata": {},
     "output_type": "display_data"
    }
   ],
   "source": [
    "plt.imshow(np.abs(min_vec_fields[0][1]))\n",
    "plt.show()"
   ]
  },
  {
   "cell_type": "code",
   "execution_count": 575,
   "metadata": {},
   "outputs": [
    {
     "data": {
      "image/png": "[encoded data removed]",
      "text/plain": [
       "<matplotlib.figure.Figure at 0x112117400>"
      ]
     },
     "metadata": {},
     "output_type": "display_data"
    }
   ],
   "source": [
    "plt.imshow(np.abs(min_vec_fields[0][2]))\n",
    "plt.show()"
   ]
  },
  {
   "cell_type": "code",
   "execution_count": 574,
   "metadata": {},
   "outputs": [
    {
     "data": {
      "image/png": "[encoded data removed]",
      "text/plain": [
       "<matplotlib.figure.Figure at 0x1270f3f60>"
      ]
     },
     "metadata": {},
     "output_type": "display_data"
    }
   ],
   "source": [
    "plt.imshow(np.abs(min_vec_fields[0][3]))\n",
    "plt.show()"
   ]
  }
 ],
 "metadata": {
  "kernelspec": {
   "display_name": "Python 3",
   "language": "python",
   "name": "python3"
  },
  "language_info": {
   "codemirror_mode": {
    "name": "ipython",
    "version": 3
   },
   "file_extension": ".py",
   "mimetype": "text/x-python",
   "name": "python",
   "nbconvert_exporter": "python",
   "pygments_lexer": "ipython3",
   "version": "3.6.3"
  }
 },
 "nbformat": 4,
 "nbformat_minor": 2
}
