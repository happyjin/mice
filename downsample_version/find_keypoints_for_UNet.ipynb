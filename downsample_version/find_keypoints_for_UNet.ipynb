{
 "cells": [
  {
   "cell_type": "code",
   "execution_count": 845,
   "metadata": {
    "collapsed": true
   },
   "outputs": [],
   "source": [
    "from UNet import *\n",
    "from sklearn.cluster import KMeans\n",
    "import numpy as np\n",
    "import matplotlib.pyplot as plt\n",
    "import deepdish as dd"
   ]
  },
  {
   "cell_type": "markdown",
   "metadata": {},
   "source": [
    "### load data"
   ]
  },
  {
   "cell_type": "code",
   "execution_count": 2,
   "metadata": {
    "collapsed": true
   },
   "outputs": [],
   "source": [
    "raw_image = dd.io.load('sample_origonal_images.h5')\n",
    "vector_field = dd.io.load('vector_fields.h5')\n",
    "keypoints_ground_truth = dd.io.load('clean_labeled_data.h5')"
   ]
  },
  {
   "cell_type": "code",
   "execution_count": 3,
   "metadata": {
    "collapsed": true
   },
   "outputs": [],
   "source": [
    "n_imgs = len(raw_image)\n",
    "n_input_channel = 1\n",
    "n_vf_channel = 4\n",
    "size = raw_image[0].shape[0]\n",
    "raw_image = raw_image.reshape(n_imgs, n_input_channel, size, size)"
   ]
  },
  {
   "cell_type": "code",
   "execution_count": 4,
   "metadata": {
    "collapsed": true
   },
   "outputs": [],
   "source": [
    "factor = 9"
   ]
  },
  {
   "cell_type": "code",
   "execution_count": 5,
   "metadata": {
    "collapsed": true
   },
   "outputs": [],
   "source": [
    "down_inputs = raw_image[:, :, ::factor,::factor] / factor\n",
    "down_vf = vector_field[:, :, ::factor, ::factor] / factor"
   ]
  },
  {
   "cell_type": "code",
   "execution_count": 6,
   "metadata": {
    "collapsed": true
   },
   "outputs": [],
   "source": [
    "down_inputs_pad = np.zeros((n_imgs, n_input_channel, 96, 96))\n",
    "down_vf_pad = np.zeros((n_imgs, n_vf_channel, 96, 96))"
   ]
  },
  {
   "cell_type": "code",
   "execution_count": 7,
   "metadata": {
    "collapsed": true
   },
   "outputs": [],
   "source": [
    "down_inputs_pad[:,:,:94, :94] = down_inputs\n",
    "down_vf_pad[:,:,:94, :94] = down_vf"
   ]
  },
  {
   "cell_type": "code",
   "execution_count": 8,
   "metadata": {
    "collapsed": true
   },
   "outputs": [],
   "source": [
    "size = down_inputs.shape[-1]"
   ]
  },
  {
   "cell_type": "markdown",
   "metadata": {},
   "source": [
    "### plot loss curve for one of CV models"
   ]
  },
  {
   "cell_type": "code",
   "execution_count": 9,
   "metadata": {
    "collapsed": true
   },
   "outputs": [],
   "source": [
    "loss_array = dd.io.load('./model/unet_mse_loss_cv_leave_one_out.h5')"
   ]
  },
  {
   "cell_type": "code",
   "execution_count": 10,
   "metadata": {},
   "outputs": [
    {
     "data": {
      "image/png": "[encoded data removed]",
      "text/plain": [
       "<matplotlib.figure.Figure at 0x7f6740076be0>"
      ]
     },
     "metadata": {},
     "output_type": "display_data"
    }
   ],
   "source": [
    "plt.plot(loss_array)\n",
    "plt.xlabel('iteration')\n",
    "plt.ylabel('loss')\n",
    "plt.title('model loss')\n",
    "plt.show()"
   ]
  },
  {
   "cell_type": "markdown",
   "metadata": {},
   "source": [
    "### lode one of CV pre-trained models and validation indeces"
   ]
  },
  {
   "cell_type": "code",
   "execution_count": 11,
   "metadata": {
    "collapsed": true
   },
   "outputs": [],
   "source": [
    "model = torch.load('./model/unet_gpu_cv_leave_one_out.pkl')\n",
    "validation_indeces = np.load('./model/validation_indeces.npy')"
   ]
  },
  {
   "cell_type": "markdown",
   "metadata": {},
   "source": [
    "There are 105 data. I use the first a hundard data to do 10 out of 100 cross validation and the rest five data can be used for test at last."
   ]
  },
  {
   "cell_type": "code",
   "execution_count": 12,
   "metadata": {},
   "outputs": [
    {
     "data": {
      "text/plain": [
       "array([[ 0,  1,  2,  3,  4,  5,  6,  7,  8,  9],\n",
       "       [10, 11, 12, 13, 14, 15, 16, 17, 18, 19],\n",
       "       [20, 21, 22, 23, 24, 25, 26, 27, 28, 29],\n",
       "       [30, 31, 32, 33, 34, 35, 36, 37, 38, 39],\n",
       "       [40, 41, 42, 43, 44, 45, 46, 47, 48, 49],\n",
       "       [50, 51, 52, 53, 54, 55, 56, 57, 58, 59],\n",
       "       [60, 61, 62, 63, 64, 65, 66, 67, 68, 69],\n",
       "       [70, 71, 72, 73, 74, 75, 76, 77, 78, 79],\n",
       "       [80, 81, 82, 83, 84, 85, 86, 87, 88, 89],\n",
       "       [90, 91, 92, 93, 94, 95, 96, 97, 98, 99]])"
      ]
     },
     "execution_count": 12,
     "metadata": {},
     "output_type": "execute_result"
    }
   ],
   "source": [
    "validation_indeces"
   ]
  },
  {
   "cell_type": "markdown",
   "metadata": {},
   "source": [
    "shape of ten validation data"
   ]
  },
  {
   "cell_type": "code",
   "execution_count": 13,
   "metadata": {},
   "outputs": [
    {
     "data": {
      "text/plain": [
       "(10, 1, 96, 96)"
      ]
     },
     "execution_count": 13,
     "metadata": {},
     "output_type": "execute_result"
    }
   ],
   "source": [
    "down_inputs_pad[validation_indeces[0]].shape"
   ]
  },
  {
   "cell_type": "code",
   "execution_count": 14,
   "metadata": {
    "collapsed": true
   },
   "outputs": [],
   "source": [
    "n_vali_data = len(down_inputs_pad[validation_indeces[0]])"
   ]
  },
  {
   "cell_type": "markdown",
   "metadata": {},
   "source": [
    "I use validation dataset to verify if the model do well or not"
   ]
  },
  {
   "cell_type": "code",
   "execution_count": 15,
   "metadata": {
    "collapsed": true
   },
   "outputs": [],
   "source": [
    "test_data = torch.from_numpy(down_inputs_pad[validation_indeces[0]]).float()\n",
    "test_data = Variable(test_data).cuda()"
   ]
  },
  {
   "cell_type": "code",
   "execution_count": 16,
   "metadata": {
    "collapsed": true
   },
   "outputs": [],
   "source": [
    "prediction = model(test_data)"
   ]
  },
  {
   "cell_type": "code",
   "execution_count": 17,
   "metadata": {
    "collapsed": true
   },
   "outputs": [],
   "source": [
    "prediction_vf = prediction.data.cpu().numpy().reshape(n_vali_data, 4, 96, 96)"
   ]
  },
  {
   "cell_type": "markdown",
   "metadata": {},
   "source": [
    "### result visualization e.g. for the 1st data "
   ]
  },
  {
   "cell_type": "code",
   "execution_count": 18,
   "metadata": {
    "collapsed": true
   },
   "outputs": [],
   "source": [
    "vali_data_index = 1"
   ]
  },
  {
   "cell_type": "code",
   "execution_count": 19,
   "metadata": {},
   "outputs": [
    {
     "data": {
      "text/plain": [
       "(10, 4, 96, 96)"
      ]
     },
     "execution_count": 19,
     "metadata": {},
     "output_type": "execute_result"
    }
   ],
   "source": [
    "prediction_vf.shape"
   ]
  },
  {
   "cell_type": "code",
   "execution_count": 20,
   "metadata": {
    "collapsed": true
   },
   "outputs": [],
   "source": [
    "ground_truth = vector_field[vali_data_index]"
   ]
  },
  {
   "cell_type": "code",
   "execution_count": 701,
   "metadata": {},
   "outputs": [
    {
     "data": {
      "image/png": "[encoded data removed]",
      "text/plain": [
       "<matplotlib.figure.Figure at 0x7f66710c69e8>"
      ]
     },
     "metadata": {},
     "output_type": "display_data"
    }
   ],
   "source": [
    "fig, ax = plt.subplots(nrows=2, ncols=4, figsize=(30, 15))\n",
    "for i in range(8):\n",
    "    plt.subplot(2, 4, i+1)\n",
    "    if i <= 3:\n",
    "        plt.imshow(np.abs(prediction_vf[vali_data_index][i%4]), cmap='gray')\n",
    "        plt.title('prediction')\n",
    "        \n",
    "    else:\n",
    "        plt.imshow(np.abs(ground_truth[i%4]), cmap='gray')\n",
    "        plt.title('ground truth')\n",
    "plt.show()"
   ]
  },
  {
   "cell_type": "code",
   "execution_count": 722,
   "metadata": {},
   "outputs": [
    {
     "data": {
      "image/png": "[encoded data removed]",
      "text/plain": [
       "<matplotlib.figure.Figure at 0x7f66706120b8>"
      ]
     },
     "metadata": {},
     "output_type": "display_data"
    }
   ],
   "source": [
    "plt.hist(prediction_vf[vali_data_index][0].flatten(), bins='auto')  # arguments are passed to np.histogram\n",
    "plt.show()"
   ]
  },
  {
   "cell_type": "code",
   "execution_count": 726,
   "metadata": {},
   "outputs": [
    {
     "data": {
      "text/plain": [
       "(840, 840)"
      ]
     },
     "execution_count": 726,
     "metadata": {},
     "output_type": "execute_result"
    }
   ],
   "source": [
    "ground_truth[0].shape"
   ]
  },
  {
   "cell_type": "code",
   "execution_count": 727,
   "metadata": {},
   "outputs": [
    {
     "data": {
      "image/png": "[encoded data removed]",
      "text/plain": [
       "<matplotlib.figure.Figure at 0x7f66702d4780>"
      ]
     },
     "metadata": {},
     "output_type": "display_data"
    }
   ],
   "source": [
    "data = ground_truth[0][::factor,::factor] / factor\n",
    "plt.hist(data.flatten(), bins='auto')  # arguments are passed to np.histogram\n",
    "plt.show()"
   ]
  },
  {
   "cell_type": "markdown",
   "metadata": {},
   "source": [
    "### create abs distance matrices"
   ]
  },
  {
   "cell_type": "code",
   "execution_count": 22,
   "metadata": {
    "collapsed": true
   },
   "outputs": [],
   "source": [
    "abs_distance = np.zeros_like(prediction_vf)"
   ]
  },
  {
   "cell_type": "markdown",
   "metadata": {},
   "source": [
    "### 4 channels meaning: (dxh, dyh, dxt, dyt)"
   ]
  },
  {
   "cell_type": "code",
   "execution_count": 23,
   "metadata": {},
   "outputs": [
    {
     "data": {
      "text/plain": [
       "(10, 4, 96, 96)"
      ]
     },
     "execution_count": 23,
     "metadata": {},
     "output_type": "execute_result"
    }
   ],
   "source": [
    "abs_distance.shape"
   ]
  },
  {
   "cell_type": "markdown",
   "metadata": {},
   "source": [
    "### compute abs distance"
   ]
  },
  {
   "cell_type": "code",
   "execution_count": 24,
   "metadata": {
    "collapsed": true
   },
   "outputs": [],
   "source": [
    "def compute_abs_dist(abs_distance):\n",
    "    pad_distance = np.arange(abs_distance.shape[2])\n",
    "    n_repeat = abs_distance.shape[2]\n",
    "    n_data = abs_distance.shape[0]\n",
    "    \n",
    "    for i in range(n_data):\n",
    "        abs_distance[i][1] = abs_distance[i][3] = np.repeat(pad_distance.reshape(-1,1), n_repeat, axis=1)\n",
    "        abs_distance[i][0] = abs_distance[i][2] = np.repeat(pad_distance.reshape(1,-1), n_repeat, axis=0)\n",
    "    \n",
    "    return abs_distance"
   ]
  },
  {
   "cell_type": "code",
   "execution_count": 25,
   "metadata": {
    "collapsed": true
   },
   "outputs": [],
   "source": [
    "abs_distance = compute_abs_dist(abs_distance)"
   ]
  },
  {
   "cell_type": "markdown",
   "metadata": {},
   "source": [
    "### add abs distance to vector field in order to figure out the coordinate of key_points by prediction"
   ]
  },
  {
   "cell_type": "code",
   "execution_count": 488,
   "metadata": {
    "collapsed": true
   },
   "outputs": [],
   "source": [
    "abs_vf = prediction_vf + abs_distance"
   ]
  },
  {
   "cell_type": "code",
   "execution_count": 471,
   "metadata": {},
   "outputs": [
    {
     "data": {
      "text/plain": [
       "(96, 96)"
      ]
     },
     "execution_count": 471,
     "metadata": {},
     "output_type": "execute_result"
    }
   ],
   "source": [
    "prediction_vf[0,0].shape"
   ]
  },
  {
   "cell_type": "markdown",
   "metadata": {},
   "source": [
    "### visualize prediction of key_points e.g. for the first validation data"
   ]
  },
  {
   "cell_type": "code",
   "execution_count": 472,
   "metadata": {
    "collapsed": true
   },
   "outputs": [],
   "source": [
    "np.set_printoptions(precision=3)"
   ]
  },
  {
   "cell_type": "code",
   "execution_count": 473,
   "metadata": {
    "collapsed": true
   },
   "outputs": [],
   "source": [
    "x_coordinate = abs_vf[vali_data_index][0]\n",
    "y_coordinate = abs_vf[vali_data_index][1]"
   ]
  },
  {
   "cell_type": "code",
   "execution_count": 474,
   "metadata": {},
   "outputs": [
    {
     "data": {
      "text/plain": [
       "(10, 4, 96, 96)"
      ]
     },
     "execution_count": 474,
     "metadata": {},
     "output_type": "execute_result"
    }
   ],
   "source": [
    "abs_vf.shape"
   ]
  },
  {
   "cell_type": "code",
   "execution_count": 475,
   "metadata": {
    "collapsed": true
   },
   "outputs": [],
   "source": [
    "## padding with zero rows and columns\n",
    "#down_sample_groundtrutch = np.zeros((n_vf_channel, 96, 96))\n",
    "#down_sample_groundtrutch[:,:94,:94] = ground_truth[:,:94, :94]\n",
    "#abs_vf = down_sample_groundtrutch + abs_distance[0]\n",
    "#x_coordinate = abs_vf[0]\n",
    "#y_coordinate = abs_vf[1]"
   ]
  },
  {
   "cell_type": "code",
   "execution_count": 476,
   "metadata": {},
   "outputs": [
    {
     "data": {
      "text/plain": [
       "(array([], dtype=int64), array([], dtype=int64))"
      ]
     },
     "execution_count": 476,
     "metadata": {},
     "output_type": "execute_result"
    }
   ],
   "source": [
    "np.where(x_coordinate == 0)"
   ]
  },
  {
   "cell_type": "code",
   "execution_count": 477,
   "metadata": {},
   "outputs": [
    {
     "data": {
      "text/plain": [
       "(96, 96)"
      ]
     },
     "execution_count": 477,
     "metadata": {},
     "output_type": "execute_result"
    }
   ],
   "source": [
    "x_coordinate.shape"
   ]
  },
  {
   "cell_type": "code",
   "execution_count": 478,
   "metadata": {},
   "outputs": [
    {
     "data": {
      "text/plain": [
       "(96, 96)"
      ]
     },
     "execution_count": 478,
     "metadata": {},
     "output_type": "execute_result"
    }
   ],
   "source": [
    "y_coordinate.shape"
   ]
  },
  {
   "cell_type": "code",
   "execution_count": 479,
   "metadata": {
    "collapsed": true
   },
   "outputs": [],
   "source": [
    "#x_coordinate = ground_truth[vali_data_index][0]\n",
    "#y_coordinate = ground_truth[vali_data_index][1]"
   ]
  },
  {
   "cell_type": "markdown",
   "metadata": {},
   "source": [
    "try to cut boundarys "
   ]
  },
  {
   "cell_type": "code",
   "execution_count": 480,
   "metadata": {
    "collapsed": true
   },
   "outputs": [],
   "source": [
    "x_coordinate = x_coordinate[:94,:94]\n",
    "y_coordinate = y_coordinate[:94,:94]"
   ]
  },
  {
   "cell_type": "code",
   "execution_count": 481,
   "metadata": {
    "collapsed": true
   },
   "outputs": [],
   "source": [
    "coordinates = np.zeros(shape=(x_coordinate.shape[0]*x_coordinate.shape[1], 2))"
   ]
  },
  {
   "cell_type": "code",
   "execution_count": 482,
   "metadata": {
    "collapsed": true
   },
   "outputs": [],
   "source": [
    "coordinates[:,0] = x_coordinate.flatten()\n",
    "coordinates[:,1] = y_coordinate.flatten()"
   ]
  },
  {
   "cell_type": "code",
   "execution_count": 483,
   "metadata": {},
   "outputs": [
    {
     "data": {
      "text/plain": [
       "dtype('float64')"
      ]
     },
     "execution_count": 483,
     "metadata": {},
     "output_type": "execute_result"
    }
   ],
   "source": [
    "coordinates.dtype"
   ]
  },
  {
   "cell_type": "code",
   "execution_count": 524,
   "metadata": {},
   "outputs": [
    {
     "data": {
      "image/png": "[encoded data removed]",
      "text/plain": [
       "<matplotlib.figure.Figure at 0x7f66933057b8>"
      ]
     },
     "metadata": {},
     "output_type": "display_data"
    }
   ],
   "source": [
    "plt.scatter(y_coordinate.flatten(), x_coordinate.flatten())\n",
    "plt.xlim(94, 0)\n",
    "plt.ylim(94, 0)\n",
    "plt.show()"
   ]
  },
  {
   "cell_type": "markdown",
   "metadata": {},
   "source": [
    "### ground truth key points location"
   ]
  },
  {
   "cell_type": "code",
   "execution_count": 209,
   "metadata": {
    "collapsed": true
   },
   "outputs": [],
   "source": [
    "n_output_channel = 4\n",
    "n_gt_imgs = 1"
   ]
  },
  {
   "cell_type": "code",
   "execution_count": 210,
   "metadata": {
    "collapsed": true
   },
   "outputs": [],
   "source": [
    "down_inputs_pad_gt = np.zeros((n_gt_imgs, n_output_channel, 96, 96))"
   ]
  },
  {
   "cell_type": "code",
   "execution_count": 211,
   "metadata": {
    "collapsed": true
   },
   "outputs": [],
   "source": [
    "one_gt = ground_truth.reshape(n_gt_imgs, n_output_channel, ground_truth.shape[1], ground_truth.shape[2])"
   ]
  },
  {
   "cell_type": "code",
   "execution_count": 214,
   "metadata": {
    "collapsed": true
   },
   "outputs": [],
   "source": [
    "down_inputs_pad_gt[:,:,:94, :94] = one_gt[:,:,::factor,::factor] / factor"
   ]
  },
  {
   "cell_type": "code",
   "execution_count": 218,
   "metadata": {
    "collapsed": true
   },
   "outputs": [],
   "source": [
    "abs_distance_gt = np.zeros_like(down_inputs_pad_gt)\n",
    "abs_distance_gt = compute_abs_dist(abs_distance_gt)"
   ]
  },
  {
   "cell_type": "code",
   "execution_count": 219,
   "metadata": {
    "collapsed": true
   },
   "outputs": [],
   "source": [
    "abs_vf_gt = down_inputs_pad_gt + abs_distance_gt"
   ]
  },
  {
   "cell_type": "code",
   "execution_count": 300,
   "metadata": {
    "collapsed": true
   },
   "outputs": [],
   "source": [
    "x_coordinate_gt = abs_vf_gt[0][0]\n",
    "y_coordinate_gt = abs_vf_gt[0][1]"
   ]
  },
  {
   "cell_type": "code",
   "execution_count": 301,
   "metadata": {
    "collapsed": true
   },
   "outputs": [],
   "source": [
    "x_coordinate_gt = x_coordinate_gt[:94,:94]\n",
    "y_coordinate_gt = y_coordinate_gt[:94,:94]"
   ]
  },
  {
   "cell_type": "code",
   "execution_count": 303,
   "metadata": {
    "collapsed": true
   },
   "outputs": [],
   "source": [
    "coordinates_gt = np.zeros(shape=(x_coordinate_gt.shape[0]*x_coordinate_gt.shape[1], 2))"
   ]
  },
  {
   "cell_type": "code",
   "execution_count": 304,
   "metadata": {},
   "outputs": [
    {
     "data": {
      "text/plain": [
       "(8836, 2)"
      ]
     },
     "execution_count": 304,
     "metadata": {},
     "output_type": "execute_result"
    }
   ],
   "source": [
    "coordinates_gt.shape"
   ]
  },
  {
   "cell_type": "code",
   "execution_count": 305,
   "metadata": {
    "collapsed": true
   },
   "outputs": [],
   "source": [
    "coordinates_gt[:,0] = x_coordinate_gt.flatten()\n",
    "coordinates_gt[:,1] = y_coordinate_gt.flatten()"
   ]
  },
  {
   "cell_type": "code",
   "execution_count": 522,
   "metadata": {},
   "outputs": [
    {
     "data": {
      "image/png": "[encoded data removed]",
      "text/plain": [
       "<matplotlib.figure.Figure at 0x7f66932ee748>"
      ]
     },
     "metadata": {},
     "output_type": "display_data"
    }
   ],
   "source": [
    "plt.scatter(y_coordinate_gt.flatten(), x_coordinate_gt.flatten(), c='blue', alpha=1)\n",
    "plt.xlim(94, 0)\n",
    "plt.ylim(94, 0)\n",
    "plt.show()"
   ]
  },
  {
   "cell_type": "markdown",
   "metadata": {},
   "source": [
    "### use k-means to figure out 8 centroids, namely 8 keypoints"
   ]
  },
  {
   "cell_type": "code",
   "execution_count": 805,
   "metadata": {
    "collapsed": true
   },
   "outputs": [],
   "source": [
    "n_keypoints = 4"
   ]
  },
  {
   "cell_type": "code",
   "execution_count": 806,
   "metadata": {
    "collapsed": true
   },
   "outputs": [],
   "source": [
    "kmeans = KMeans(n_clusters=n_keypoints, random_state=0).fit(coordinates)"
   ]
  },
  {
   "cell_type": "code",
   "execution_count": 807,
   "metadata": {
    "collapsed": true
   },
   "outputs": [],
   "source": [
    "predict_keypoints = kmeans.cluster_centers_"
   ]
  },
  {
   "cell_type": "code",
   "execution_count": 808,
   "metadata": {},
   "outputs": [
    {
     "data": {
      "text/plain": [
       "array([[ 52.243,  71.947],\n",
       "       [ 52.438,  36.327],\n",
       "       [ 79.133,  58.496],\n",
       "       [ 53.517,  31.227]])"
      ]
     },
     "execution_count": 808,
     "metadata": {},
     "output_type": "execute_result"
    }
   ],
   "source": [
    "predict_keypoints"
   ]
  },
  {
   "cell_type": "code",
   "execution_count": 809,
   "metadata": {},
   "outputs": [
    {
     "data": {
      "text/plain": [
       "(105, 840, 840)"
      ]
     },
     "execution_count": 809,
     "metadata": {},
     "output_type": "execute_result"
    }
   ],
   "source": [
    "keypoints_ground_truth.shape"
   ]
  },
  {
   "cell_type": "code",
   "execution_count": 810,
   "metadata": {
    "collapsed": true
   },
   "outputs": [],
   "source": [
    "background = np.ones(shape=(96, 96))"
   ]
  },
  {
   "cell_type": "code",
   "execution_count": 811,
   "metadata": {},
   "outputs": [
    {
     "data": {
      "text/plain": [
       "(105, 1, 96, 96)"
      ]
     },
     "execution_count": 811,
     "metadata": {},
     "output_type": "execute_result"
    }
   ],
   "source": [
    "down_inputs_pad.shape"
   ]
  },
  {
   "cell_type": "code",
   "execution_count": 812,
   "metadata": {
    "collapsed": true
   },
   "outputs": [],
   "source": [
    "example_img = down_inputs_pad[1].reshape(96,96)"
   ]
  },
  {
   "cell_type": "code",
   "execution_count": 813,
   "metadata": {},
   "outputs": [
    {
     "data": {
      "image/png": "[encoded data removed]",
      "text/plain": [
       "<matplotlib.figure.Figure at 0x7f668d93f940>"
      ]
     },
     "metadata": {},
     "output_type": "display_data"
    }
   ],
   "source": [
    "plt.imshow(example_img, cmap='gray')\n",
    "#plt.imshow(background, cmap='gray')\n",
    "colors = np.random.rand(n_keypoints)\n",
    "plt.scatter(predict_keypoints[:,1], predict_keypoints[:,0], c='red', alpha=1)\n",
    "plt.scatter(y_coordinate_gt.flatten(), x_coordinate_gt.flatten(), c='blue', alpha=1)\n",
    "plt.show()"
   ]
  },
  {
   "cell_type": "markdown",
   "metadata": {
    "collapsed": true
   },
   "source": [
    "### remove outliers for the prediction"
   ]
  },
  {
   "cell_type": "code",
   "execution_count": 780,
   "metadata": {},
   "outputs": [
    {
     "data": {
      "image/png": "[encoded data removed]",
      "text/plain": [
       "<matplotlib.figure.Figure at 0x7f666fa80898>"
      ]
     },
     "metadata": {},
     "output_type": "display_data"
    }
   ],
   "source": [
    "plt.scatter(y_coordinate.flatten(), x_coordinate.flatten())\n",
    "plt.xlim(96, 0)\n",
    "plt.ylim(96, 0)\n",
    "plt.show()"
   ]
  },
  {
   "cell_type": "code",
   "execution_count": 489,
   "metadata": {
    "collapsed": true
   },
   "outputs": [],
   "source": [
    "first_pred_vf = prediction_vf[0]"
   ]
  },
  {
   "cell_type": "code",
   "execution_count": 490,
   "metadata": {
    "collapsed": true
   },
   "outputs": [],
   "source": [
    "first_pred_abs_dist = abs_distance[0]"
   ]
  },
  {
   "cell_type": "code",
   "execution_count": 463,
   "metadata": {},
   "outputs": [
    {
     "data": {
      "text/plain": [
       "(4, 96, 96)"
      ]
     },
     "execution_count": 463,
     "metadata": {},
     "output_type": "execute_result"
    }
   ],
   "source": [
    "first_pred_abs_dist.shape"
   ]
  },
  {
   "cell_type": "code",
   "execution_count": 464,
   "metadata": {},
   "outputs": [
    {
     "data": {
      "text/plain": [
       "(4, 96, 96)"
      ]
     },
     "execution_count": 464,
     "metadata": {},
     "output_type": "execute_result"
    }
   ],
   "source": [
    "first_pred_vf.shape"
   ]
  },
  {
   "cell_type": "code",
   "execution_count": 883,
   "metadata": {
    "collapsed": true
   },
   "outputs": [],
   "source": [
    "def remove_outliers(vf, pos_dist, threshold):\n",
    "    \"\"\"\n",
    "    this function is for only one data. If you want to remove outliers for more than one data, \n",
    "    then you have to change the code\n",
    "    return: coordinate list which is within threshold\n",
    "    \"\"\"\n",
    "    n_channels = 4\n",
    "    n_body_parts = 2 # head and tail\n",
    "    head_coords_list_threshold = []\n",
    "    tail_coords_list_threshold = []\n",
    "    \n",
    "    # step 1: flatten vector fields and figure out the x and y row coordinates for head and tail seperately\n",
    "    # coordinates_flatten contains (h_rows_x, h_rows_y, t_rows_x, t_rows_y)\n",
    "    # flatten the postive distance tensor as well. it contains its cooresponding coordinates\n",
    "    coordinates_flatten = vf.reshape(n_channels, -1)\n",
    "    pos_dist_flatten = pos_dist.reshape(n_channels, -1)\n",
    "    \n",
    "    # step 2: keep abs(coordinates_flatten) and its corresponding pos_dist_flatten which is within the threshold\n",
    "    # note: remove x and its coorsponding y at the same time\n",
    "    k = 0\n",
    "    #for i in range(n_body_parts):\n",
    "    total_dist_h = np.abs(coordinates_flatten[0]) + np.abs(coordinates_flatten[1])\n",
    "    total_dist_t = np.abs(coordinates_flatten[2]) + np.abs(coordinates_flatten[3])\n",
    "    #logical_discri = np.logical_or(np.abs(coordinates_flatten[k]) <= threshold, np.abs(coordinates_flatten[k+1] <= threshold))\n",
    "    ##indeces = np.where(total_dist_h <= threshold)\n",
    "    #indeces = np.where(logical_disc)\n",
    "    indeces = np.logical_and(total_dist_h <= threshold, total_dist_t <= threshold)\n",
    "    \n",
    "        # x coordinate\n",
    "    x_coor = coordinates_flatten[0][indeces] + pos_dist_flatten[0][indeces]\n",
    "    head_coords_list_threshold.append(x_coor)\n",
    "    # y coordinate\n",
    "    y_coor = coordinates_flatten[1][indeces] + pos_dist_flatten[1][indeces]\n",
    "    head_coords_list_threshold.append(y_coor)\n",
    "    # x coordinate\n",
    "    x_coor = coordinates_flatten[2][indeces] + pos_dist_flatten[2][indeces]\n",
    "    tail_coords_list_threshold.append(x_coor)\n",
    "    # y coordinate\n",
    "    y_coor = coordinates_flatten[3][indeces] + pos_dist_flatten[3][indeces]\n",
    "    tail_coords_list_threshold.append(y_coor)\n",
    "    #k += 2\n",
    "    \n",
    "    # step 3: add them up in order to get coordinates to plot scatter\n",
    "    return head_coords_list_threshold, tail_coords_list_threshold"
   ]
  },
  {
   "cell_type": "code",
   "execution_count": 884,
   "metadata": {},
   "outputs": [],
   "source": [
    "one_vf = prediction_vf[1][:, :94, :94]"
   ]
  },
  {
   "cell_type": "code",
   "execution_count": 885,
   "metadata": {},
   "outputs": [
    {
     "data": {
      "text/plain": [
       "(4, 94, 94)"
      ]
     },
     "execution_count": 885,
     "metadata": {},
     "output_type": "execute_result"
    }
   ],
   "source": [
    "one_vf.shape"
   ]
  },
  {
   "cell_type": "code",
   "execution_count": 886,
   "metadata": {
    "collapsed": true
   },
   "outputs": [],
   "source": [
    "one_pos_dist = np.zeros((1, 4, 94, 94))\n",
    "one_pos_dist = compute_abs_dist(one_pos_dist)\n",
    "one_pos_dist = one_pos_dist.reshape(4, 94, 94)"
   ]
  },
  {
   "cell_type": "code",
   "execution_count": 916,
   "metadata": {},
   "outputs": [
    {
     "data": {
      "image/png": "[encoded data removed]",
      "text/plain": [
       "<matplotlib.figure.Figure at 0x7f65fea144a8>"
      ]
     },
     "metadata": {},
     "output_type": "display_data"
    }
   ],
   "source": [
    "threshold = 20\n",
    "h_coor_list_thre, t_coor_list_thre = remove_outliers(one_vf, one_pos_dist, threshold)\n",
    "y_coordinate_thre = h_coor_list_thre[0]\n",
    "x_coordinate_thre = h_coor_list_thre[1]\n",
    "plt.scatter(x_coordinate_thre.flatten(), y_coordinate_thre.flatten())\n",
    "plt.xlim(94, 0)\n",
    "plt.ylim(94, 0)\n",
    "plt.show()"
   ]
  },
  {
   "cell_type": "code",
   "execution_count": 836,
   "metadata": {
    "collapsed": true
   },
   "outputs": [],
   "source": [
    "coordinates_one_remove_outlier = np.zeros(shape=(len(x_coordinate_thre), 2))"
   ]
  },
  {
   "cell_type": "code",
   "execution_count": 837,
   "metadata": {},
   "outputs": [],
   "source": [
    "coordinates_one_remove_outlier[:,0] = x_coordinate_thre\n",
    "coordinates_one_remove_outlier[:,1] = y_coordinate_thre"
   ]
  },
  {
   "cell_type": "code",
   "execution_count": 838,
   "metadata": {
    "collapsed": true
   },
   "outputs": [],
   "source": [
    "kmeans = KMeans(n_clusters=n_keypoints, random_state=0).fit(coordinates_one_remove_outlier)"
   ]
  },
  {
   "cell_type": "code",
   "execution_count": 839,
   "metadata": {
    "collapsed": true
   },
   "outputs": [],
   "source": [
    "predict_keypoints_remove_outlier = kmeans.cluster_centers_"
   ]
  },
  {
   "cell_type": "code",
   "execution_count": 840,
   "metadata": {},
   "outputs": [
    {
     "data": {
      "text/plain": [
       "array([[ 71.947,  52.243],\n",
       "       [ 36.327,  52.438],\n",
       "       [ 58.496,  79.133],\n",
       "       [ 31.227,  53.517]])"
      ]
     },
     "execution_count": 840,
     "metadata": {},
     "output_type": "execute_result"
    }
   ],
   "source": [
    "predict_keypoints_remove_outlier"
   ]
  },
  {
   "cell_type": "code",
   "execution_count": 841,
   "metadata": {},
   "outputs": [
    {
     "data": {
      "image/png": "[encoded data removed]",
      "text/plain": [
       "<matplotlib.figure.Figure at 0x7f6670200550>"
      ]
     },
     "metadata": {},
     "output_type": "display_data"
    }
   ],
   "source": [
    "plt.imshow(example_img, cmap='gray')\n",
    "#plt.imshow(background, cmap='gray')\n",
    "colors = np.random.rand(n_keypoints)\n",
    "plt.scatter(predict_keypoints_remove_outlier[:,0], predict_keypoints_remove_outlier[:,1], c='red', alpha=1)\n",
    "#plt.scatter(y_coordinate_gt.flatten(), x_coordinate_gt.flatten(), c='blue', alpha=1)\n",
    "plt.show()"
   ]
  },
  {
   "cell_type": "markdown",
   "metadata": {},
   "source": [
    "### clustering for 4-d tensor namely (x_h,y_h,x_t,y_t)"
   ]
  },
  {
   "cell_type": "markdown",
   "metadata": {},
   "source": [
    "test it utilize the previouse head and tail coordinates"
   ]
  },
  {
   "cell_type": "code",
   "execution_count": 890,
   "metadata": {
    "collapsed": true
   },
   "outputs": [],
   "source": [
    "#n_samples = "
   ]
  },
  {
   "cell_type": "code",
   "execution_count": 891,
   "metadata": {
    "collapsed": true
   },
   "outputs": [],
   "source": [
    "n_dimensions = 4"
   ]
  },
  {
   "cell_type": "markdown",
   "metadata": {},
   "source": [
    "four_d_tensor = (x_h, y_h, x_t, y_t)"
   ]
  },
  {
   "cell_type": "code",
   "execution_count": 892,
   "metadata": {
    "collapsed": true
   },
   "outputs": [],
   "source": [
    "four_d_tensor = np.zeros(shape=(h_coor_list_thre[0].shape[0], n_dimensions))"
   ]
  },
  {
   "cell_type": "code",
   "execution_count": 893,
   "metadata": {},
   "outputs": [
    {
     "data": {
      "text/plain": [
       "290"
      ]
     },
     "execution_count": 893,
     "metadata": {},
     "output_type": "execute_result"
    }
   ],
   "source": [
    "h_coor_list_thre[0].shape[0]"
   ]
  },
  {
   "cell_type": "code",
   "execution_count": 894,
   "metadata": {},
   "outputs": [
    {
     "data": {
      "text/plain": [
       "(290,)"
      ]
     },
     "execution_count": 894,
     "metadata": {},
     "output_type": "execute_result"
    }
   ],
   "source": [
    "t_coor_list_thre[0].shape"
   ]
  },
  {
   "cell_type": "code",
   "execution_count": 895,
   "metadata": {},
   "outputs": [],
   "source": [
    "four_d_tensor[:,0] = h_coor_list_thre[0]\n",
    "four_d_tensor[:,1] = h_coor_list_thre[1]\n",
    "four_d_tensor[:,2] = t_coor_list_thre[0]\n",
    "four_d_tensor[:,3] = t_coor_list_thre[1]"
   ]
  },
  {
   "cell_type": "markdown",
   "metadata": {},
   "source": [
    "### plot tail to head in order to visualize vector"
   ]
  },
  {
   "cell_type": "code",
   "execution_count": 900,
   "metadata": {},
   "outputs": [
    {
     "data": {
      "image/png": "[encoded data removed]",
      "text/plain": [
       "<matplotlib.figure.Figure at 0x7f666fc246d8>"
      ]
     },
     "metadata": {},
     "output_type": "display_data"
    }
   ],
   "source": [
    "ax = plt.axes()\n",
    "ax.arrow(0, 0, 0.5, 0.5, head_width=0.05, head_length=0.1, fc='k', ec='k')\n",
    "plt.show()"
   ]
  },
  {
   "cell_type": "code",
   "execution_count": 951,
   "metadata": {},
   "outputs": [],
   "source": [
    "for i in range(len(four_d_tensor)):\n",
    "    x = (four_d_tensor[i,1], four_d_tensor[i,3])\n",
    "    y = (four_d_tensor[i,0], four_d_tensor[i,2]) \n",
    "    plt.xlim(0, 94)\n",
    "    plt.ylim(94, 0)\n",
    "    plt.plot(x, y)"
   ]
  },
  {
   "cell_type": "code",
   "execution_count": 952,
   "metadata": {},
   "outputs": [
    {
     "data": {
      "image/png": "[encoded data removed]",
      "text/plain": [
       "<matplotlib.figure.Figure at 0x7f65faf84908>"
      ]
     },
     "metadata": {},
     "output_type": "display_data"
    }
   ],
   "source": [
    "plt.show()"
   ]
  },
  {
   "cell_type": "code",
   "execution_count": 896,
   "metadata": {
    "collapsed": true
   },
   "outputs": [],
   "source": [
    "four_d_kmeans = KMeans(n_clusters=n_keypoints, random_state=0).fit(four_d_tensor)"
   ]
  },
  {
   "cell_type": "code",
   "execution_count": 897,
   "metadata": {
    "collapsed": true
   },
   "outputs": [],
   "source": [
    "four_d_centers = four_d_kmeans.cluster_centers_"
   ]
  },
  {
   "cell_type": "code",
   "execution_count": 898,
   "metadata": {},
   "outputs": [
    {
     "data": {
      "text/plain": [
       "array([[ 51.611,  36.735,  57.417,  33.406],\n",
       "       [ 76.052,  61.434,  67.611,  58.07 ],\n",
       "       [ 56.085,  73.476,  55.363,  71.689],\n",
       "       [ 74.541,  62.985,  64.165,  58.151]])"
      ]
     },
     "execution_count": 898,
     "metadata": {},
     "output_type": "execute_result"
    }
   ],
   "source": [
    "four_d_centers"
   ]
  },
  {
   "cell_type": "code",
   "execution_count": null,
   "metadata": {
    "collapsed": true
   },
   "outputs": [],
   "source": []
  },
  {
   "cell_type": "code",
   "execution_count": 915,
   "metadata": {},
   "outputs": [
    {
     "data": {
      "image/png": "[encoded data removed]",
      "text/plain": [
       "<matplotlib.figure.Figure at 0x7f65fe9a3a90>"
      ]
     },
     "metadata": {},
     "output_type": "display_data"
    }
   ],
   "source": [
    "plt.imshow(example_img, cmap='gray')\n",
    "#plt.imshow(background, cmap='gray')\n",
    "colors = np.random.rand(n_keypoints)\n",
    "plt.scatter(four_d_centers[:,3], four_d_centers[:,2], c='red', alpha=1) # tail prediction\n",
    "plt.scatter(four_d_centers[:,1], four_d_centers[:,0], c='green', alpha=1) # head prediction\n",
    "#plt.scatter(y_coordinate_gt.flatten(), x_coordinate_gt.flatten(), c='blue', alpha=1)\n",
    "plt.show()"
   ]
  },
  {
   "cell_type": "code",
   "execution_count": 910,
   "metadata": {},
   "outputs": [
    {
     "data": {
      "text/plain": [
       "array([ 33.406,  58.07 ,  71.689,  58.151])"
      ]
     },
     "execution_count": 910,
     "metadata": {},
     "output_type": "execute_result"
    }
   ],
   "source": [
    "four_d_centers[:,3]"
   ]
  },
  {
   "cell_type": "code",
   "execution_count": 911,
   "metadata": {},
   "outputs": [
    {
     "data": {
      "text/plain": [
       "array([[ 51.611,  36.735,  57.417,  33.406],\n",
       "       [ 76.052,  61.434,  67.611,  58.07 ]])"
      ]
     },
     "execution_count": 911,
     "metadata": {},
     "output_type": "execute_result"
    }
   ],
   "source": [
    "four_d_centers[:2]"
   ]
  },
  {
   "cell_type": "code",
   "execution_count": null,
   "metadata": {
    "collapsed": true
   },
   "outputs": [],
   "source": []
  }
 ],
 "metadata": {
  "kernelspec": {
   "display_name": "Python 3",
   "language": "python",
   "name": "python3"
  },
  "language_info": {
   "codemirror_mode": {
    "name": "ipython",
    "version": 3
   },
   "file_extension": ".py",
   "mimetype": "text/x-python",
   "name": "python",
   "nbconvert_exporter": "python",
   "pygments_lexer": "ipython3",
   "version": "3.6.3"
  }
 },
 "nbformat": 4,
 "nbformat_minor": 2
}
