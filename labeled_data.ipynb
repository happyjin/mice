{
 "cells": [
  {
   "cell_type": "code",
   "execution_count": 293,
   "metadata": {
    "collapsed": true
   },
   "outputs": [],
   "source": [
    "import numpy as np\n",
    "import deepdish as dd\n",
    "import h5py\n",
    "from collections import Counter"
   ]
  },
  {
   "cell_type": "markdown",
   "metadata": {},
   "source": [
    "acquire data from HDF5 file"
   ]
  },
  {
   "cell_type": "code",
   "execution_count": 300,
   "metadata": {
    "collapsed": true
   },
   "outputs": [],
   "source": [
    "filename = '/Users/lijin/Documents/Studing_in_Uni_HD/internship/overlap_tracking/Labels_1312.h5'"
   ]
  },
  {
   "cell_type": "code",
   "execution_count": 301,
   "metadata": {},
   "outputs": [
    {
     "name": "stdout",
     "output_type": "stream",
     "text": [
      "Keys: KeysView(<HDF5 file \"Labels_1312.h5\" (mode r)>)\n"
     ]
    }
   ],
   "source": [
    "f = h5py.File(filename, 'r')\n",
    "\n",
    "# List all groups\n",
    "print(\"Keys: %s\" % f.keys())\n",
    "a_group_key = list(f.keys())[0]\n",
    "\n",
    "# Get the data\n",
    "data = list(f[a_group_key])"
   ]
  },
  {
   "cell_type": "code",
   "execution_count": 272,
   "metadata": {},
   "outputs": [],
   "source": [
    "# convert data from list to numpy\n",
    "data = np.array(data)"
   ]
  },
  {
   "cell_type": "code",
   "execution_count": 273,
   "metadata": {},
   "outputs": [
    {
     "data": {
      "text/plain": [
       "(2100, 840, 840, 1)"
      ]
     },
     "execution_count": 273,
     "metadata": {},
     "output_type": "execute_result"
    }
   ],
   "source": [
    "data.shape"
   ]
  },
  {
   "cell_type": "code",
   "execution_count": 274,
   "metadata": {},
   "outputs": [
    {
     "data": {
      "text/plain": [
       "array([4], dtype=uint8)"
      ]
     },
     "execution_count": 274,
     "metadata": {},
     "output_type": "execute_result"
    }
   ],
   "source": [
    "data[2020][data[2020] == 4]"
   ]
  },
  {
   "cell_type": "markdown",
   "metadata": {},
   "source": [
    "validate all labeled data in order to figure out non-correct data from them"
   ]
  },
  {
   "cell_type": "code",
   "execution_count": 275,
   "metadata": {},
   "outputs": [],
   "source": [
    "def get_labels(data):\n",
    "    counter = []\n",
    "    labeled_data = []\n",
    "    for i in range(len(data)):\n",
    "        if data[i][data[i]!=0].size != 0 and i % 20 == 0:\n",
    "            labeled_data.append(data[i][data[i]!=0])\n",
    "            counter.append(i)\n",
    "    labeled_data = np.array(labeled_data)\n",
    "    counter = np.array(counter)\n",
    "    return labeled_data, counter"
   ]
  },
  {
   "cell_type": "code",
   "execution_count": 276,
   "metadata": {},
   "outputs": [],
   "source": [
    "labels, counter = get_labels(data)"
   ]
  },
  {
   "cell_type": "code",
   "execution_count": 277,
   "metadata": {
    "collapsed": true
   },
   "outputs": [],
   "source": [
    "labeled_data = data[counter].reshape(len(counter), 840, -1)"
   ]
  },
  {
   "cell_type": "code",
   "execution_count": 278,
   "metadata": {},
   "outputs": [
    {
     "data": {
      "text/plain": [
       "(105, 840, 840)"
      ]
     },
     "execution_count": 278,
     "metadata": {},
     "output_type": "execute_result"
    }
   ],
   "source": [
    "labeled_data.shape"
   ]
  },
  {
   "cell_type": "markdown",
   "metadata": {},
   "source": [
    "duplicate labels"
   ]
  },
  {
   "cell_type": "code",
   "execution_count": 281,
   "metadata": {},
   "outputs": [
    {
     "data": {
      "text/plain": [
       "array([array([1, 2, 4, 7, 3, 6, 8, 5], dtype=uint8),\n",
       "       array([1, 7, 8, 2, 4, 3, 6, 5], dtype=uint8),\n",
       "       array([1, 8, 7, 2, 5, 4, 3, 6], dtype=uint8),\n",
       "       array([3, 3, 3, 3, 3, 3, 3, 3, 3, 3, 3, 3, 3, 3, 3, 3, 3, 3, 3, 3, 3, 3, 3,\n",
       "       3, 3, 3, 3, 3, 3, 3, 3, 3, 3, 3, 3, 3, 3, 3, 3, 3, 3, 3, 3, 3, 3, 3,\n",
       "       3, 3, 3, 3, 3, 3, 3, 3, 3, 3, 3, 3, 3, 3, 3, 3, 3, 3, 3, 3, 3, 3, 3,\n",
       "       3, 3, 3, 3, 3, 3, 3, 3, 3, 3, 3, 3, 3, 3, 3, 3, 3, 3, 3, 3, 3, 3, 3,\n",
       "       3, 3, 3, 3, 3, 3, 3, 3, 3, 3, 3, 3, 3, 3, 3, 3, 3, 3, 3, 3, 3, 3, 3,\n",
       "       3, 3, 3, 3, 3, 3, 3, 3, 3, 3, 3, 3, 3, 3, 3, 3, 3, 3, 3, 3, 3, 3, 3,\n",
       "       3, 3, 3, 3, 3, 3, 3, 3, 3, 3, 3, 3, 3, 3, 3, 3, 3, 3, 3, 3, 3, 3, 3,\n",
       "       3, 3, 3, 3, 3, 3, 3, 3, 3, 3, 3, 3, 3, 3, 3, 3, 3, 3, 3, 3, 3, 3, 3,\n",
       "       3, 3, 3, 3, 3, 3, 3, 3, 3, 3, 3, 3, 3, 3, 3, 3, 3, 3, 3, 3, 3, 3, 3,\n",
       "       3, 1, 8, 2, 7, 4, 5, 3, 6], dtype=uint8),\n",
       "       array([1, 2, 8, 5, 7, 3, 6, 4], dtype=uint8),\n",
       "       array([1, 5, 2, 6, 3, 4, 8, 7], dtype=uint8),\n",
       "       array([5, 3, 6, 1, 2, 4, 8, 7], dtype=uint8),\n",
       "       array([3, 6, 6, 5, 4, 2, 1, 8, 7], dtype=uint8),\n",
       "       array([4, 3, 2, 6, 1, 5, 7, 8], dtype=uint8),\n",
       "       array([4, 3, 2, 1, 6, 5, 8, 7], dtype=uint8),\n",
       "       array([2, 4, 1, 3, 6, 7, 8, 5], dtype=uint8),\n",
       "       array([1, 2, 7, 4, 6, 5, 8, 3], dtype=uint8),\n",
       "       array([1, 2, 7, 5, 6, 3, 8, 4], dtype=uint8),\n",
       "       array([2, 1, 8, 7, 3, 4, 6, 5], dtype=uint8),\n",
       "       array([2, 1, 3, 7, 8, 4, 5, 6], dtype=uint8),\n",
       "       array([2, 1, 3, 4, 8, 7, 5, 6], dtype=uint8),\n",
       "       array([2, 1, 5, 4, 6, 3, 8, 7], dtype=uint8),\n",
       "       array([5, 2, 6, 1, 4, 7, 8, 3], dtype=uint8),\n",
       "       array([5, 6, 2, 1, 4, 7, 3, 8], dtype=uint8),\n",
       "       array([5, 6, 7, 2, 3, 1, 8, 4], dtype=uint8),\n",
       "       array([5, 6, 7, 8, 3, 2, 4, 1], dtype=uint8),\n",
       "       array([5, 6, 7, 8, 3, 4, 2, 1], dtype=uint8),\n",
       "       array([5, 6, 7, 8, 4, 3, 1, 2], dtype=uint8),\n",
       "       array([5, 6, 6, 7, 8, 2, 1, 4, 3], dtype=uint8),\n",
       "       array([7, 5, 6, 8, 2, 4, 3, 1], dtype=uint8),\n",
       "       array([5, 6, 7, 8, 2, 1, 2, 3, 4], dtype=uint8),\n",
       "       array([5, 6, 7, 8, 2, 1, 3, 4], dtype=uint8),\n",
       "       array([7, 6, 5, 8, 2, 3, 1, 4, 4], dtype=uint8),\n",
       "       array([8, 7, 6, 5, 1, 2, 3, 4], dtype=uint8),\n",
       "       array([8, 7, 6, 5, 1, 2, 3, 4], dtype=uint8),\n",
       "       array([8, 7, 6, 5, 2, 3, 1, 4], dtype=uint8),\n",
       "       array([8, 7, 6, 3, 1, 2, 5, 4], dtype=uint8),\n",
       "       array([8, 7, 1, 3, 2, 6, 4, 5], dtype=uint8),\n",
       "       array([1, 8, 3, 2, 7, 4, 5, 6], dtype=uint8),\n",
       "       array([3, 1, 4, 2, 7, 8, 6, 5], dtype=uint8),\n",
       "       array([3, 4, 1, 7, 2, 8, 5, 6], dtype=uint8),\n",
       "       array([3, 4, 7, 2, 1, 8, 5, 6], dtype=uint8),\n",
       "       array([3, 4, 8, 7, 2, 1, 5, 6], dtype=uint8),\n",
       "       array([4, 3, 8, 7, 2, 1, 5, 6], dtype=uint8),\n",
       "       array([3, 4, 5, 6, 8, 2, 7, 1], dtype=uint8),\n",
       "       array([3, 4, 5, 6, 8, 2, 7, 1], dtype=uint8),\n",
       "       array([4, 3, 5, 6, 2, 8, 1, 7], dtype=uint8),\n",
       "       array([5, 4, 6, 3, 2, 8, 7, 1], dtype=uint8),\n",
       "       array([5, 6, 4, 3, 1, 2, 7, 8], dtype=uint8),\n",
       "       array([6, 5, 1, 4, 3, 2, 7, 8], dtype=uint8),\n",
       "       array([6, 1, 5, 2, 7, 8, 4, 3], dtype=uint8),\n",
       "       array([1, 2, 6, 7, 5, 8, 4, 3], dtype=uint8),\n",
       "       array([1, 2, 8, 7, 6, 5, 4, 3], dtype=uint8),\n",
       "       array([1, 2, 8, 7, 6, 5, 4, 3], dtype=uint8),\n",
       "       array([1, 2, 8, 7, 6, 5, 3, 4], dtype=uint8),\n",
       "       array([2, 1, 8, 7, 6, 3, 5, 4], dtype=uint8),\n",
       "       array([2, 1, 8, 7, 6, 3, 5, 4], dtype=uint8),\n",
       "       array([2, 1, 8, 7, 6, 5, 3, 4], dtype=uint8),\n",
       "       array([2, 1, 8, 6, 7, 3, 5, 4], dtype=uint8),\n",
       "       array([2, 1, 8, 3, 7, 4, 5, 6], dtype=uint8),\n",
       "       array([3, 4, 2, 1, 7, 8, 5, 6], dtype=uint8),\n",
       "       array([3, 4, 1, 2, 7, 8, 5, 6], dtype=uint8),\n",
       "       array([3, 4, 7, 2, 1, 8, 5, 6], dtype=uint8),\n",
       "       array([3, 4, 5, 7, 6, 8, 8, 2, 1], dtype=uint8),\n",
       "       array([3, 5, 4, 6, 8, 7, 2, 1], dtype=uint8),\n",
       "       array([3, 5, 6, 4, 8, 2, 7, 1], dtype=uint8),\n",
       "       array([3, 5, 4, 6, 2, 1, 8, 7], dtype=uint8),\n",
       "       array([5, 6, 4, 3, 2, 1, 8, 7], dtype=uint8),\n",
       "       array([6, 5, 4, 3, 2, 1, 8, 7], dtype=uint8),\n",
       "       array([6, 5, 4, 3, 3, 2, 1, 8, 7], dtype=uint8),\n",
       "       array([5, 6, 4, 2, 3, 7, 1, 8], dtype=uint8),\n",
       "       array([5, 6, 3, 4, 2, 7, 1, 8], dtype=uint8),\n",
       "       array([5, 6, 3, 4, 7, 2, 1, 8], dtype=uint8),\n",
       "       array([5, 6, 3, 4, 7, 8, 1, 2], dtype=uint8),\n",
       "       array([5, 6, 3, 4, 7, 8, 2, 1], dtype=uint8),\n",
       "       array([6, 5, 3, 4, 7, 8, 2, 1], dtype=uint8),\n",
       "       array([5, 6, 4, 3, 7, 8, 2, 1], dtype=uint8),\n",
       "       array([5, 6, 4, 3, 7, 8, 1, 2], dtype=uint8),\n",
       "       array([3, 6, 5, 7, 4, 8, 1, 2], dtype=uint8),\n",
       "       array([5, 3, 6, 7, 4, 8, 1, 2], dtype=uint8),\n",
       "       array([6, 8, 3, 7, 5, 4, 1, 2], dtype=uint8),\n",
       "       array([8, 7, 4, 3, 3, 3, 6, 5, 2, 1], dtype=uint8),\n",
       "       array([8, 7, 4, 3, 2, 6, 5, 1], dtype=uint8),\n",
       "       array([8, 7, 4, 3, 2, 6, 1, 5], dtype=uint8),\n",
       "       array([8, 7, 4, 3, 2, 1, 6, 5], dtype=uint8),\n",
       "       array([8, 7, 4, 3, 5, 2, 6, 1], dtype=uint8),\n",
       "       array([7, 8, 5, 4, 6, 3, 2, 1], dtype=uint8),\n",
       "       array([7, 8, 3, 5, 4, 6, 1, 2], dtype=uint8),\n",
       "       array([8, 7, 3, 4, 6, 5, 2, 1], dtype=uint8),\n",
       "       array([3, 8, 4, 7, 6, 5, 2, 1], dtype=uint8),\n",
       "       array([3, 4, 8, 7, 6, 2, 1, 5], dtype=uint8),\n",
       "       array([3, 4, 8, 7, 1, 2, 6, 5], dtype=uint8),\n",
       "       array([4, 3, 8, 1, 7, 2, 6, 5], dtype=uint8),\n",
       "       array([4, 3, 1, 2, 8, 7, 6, 5], dtype=uint8),\n",
       "       array([4, 3, 1, 2, 8, 6, 7, 5], dtype=uint8),\n",
       "       array([1, 2, 4, 3, 8, 6, 5, 7], dtype=uint8),\n",
       "       array([1, 2, 3, 4, 5, 6, 8, 7], dtype=uint8),\n",
       "       array([1, 2, 5, 4, 3, 6, 7, 8], dtype=uint8),\n",
       "       array([1, 2, 5, 6, 7, 3, 4, 8], dtype=uint8),\n",
       "       array([1, 5, 2, 6, 3, 4, 7, 8], dtype=uint8),\n",
       "       array([1, 6, 2, 5, 3, 4, 7, 8], dtype=uint8),\n",
       "       array([2, 1, 7, 3, 6, 4, 8, 5], dtype=uint8),\n",
       "       array([7, 2, 1, 8, 4, 3, 6, 5], dtype=uint8),\n",
       "       array([7, 8, 1, 2, 4, 3, 6, 5], dtype=uint8),\n",
       "       array([8, 1, 2, 7, 4, 3, 6, 5], dtype=uint8),\n",
       "       array([7, 8, 2, 1, 4, 6, 3, 5], dtype=uint8),\n",
       "       array([8, 7, 2, 1, 6, 4, 3, 5], dtype=uint8),\n",
       "       array([8, 7, 2, 1, 3, 6, 4, 5], dtype=uint8),\n",
       "       array([8, 7, 2, 1, 6, 3, 4, 5], dtype=uint8),\n",
       "       array([2, 8, 1, 3, 7, 4, 6, 5], dtype=uint8)], dtype=object)"
      ]
     },
     "execution_count": 281,
     "metadata": {},
     "output_type": "execute_result"
    }
   ],
   "source": [
    "labels"
   ]
  },
  {
   "cell_type": "markdown",
   "metadata": {},
   "source": [
    "indeces for labeled data"
   ]
  },
  {
   "cell_type": "code",
   "execution_count": 282,
   "metadata": {},
   "outputs": [
    {
     "data": {
      "text/plain": [
       "array([   0,   20,   40,   60,   80,  100,  120,  140,  160,  180,  200,\n",
       "        220,  240,  260,  280,  300,  320,  340,  360,  380,  400,  420,\n",
       "        440,  460,  480,  500,  520,  540,  560,  580,  600,  620,  640,\n",
       "        660,  680,  700,  720,  740,  760,  780,  800,  820,  840,  860,\n",
       "        880,  900,  920,  940,  960,  980, 1000, 1020, 1040, 1060, 1080,\n",
       "       1100, 1120, 1140, 1160, 1180, 1200, 1220, 1240, 1260, 1280, 1300,\n",
       "       1320, 1340, 1360, 1380, 1400, 1420, 1440, 1460, 1480, 1500, 1520,\n",
       "       1540, 1560, 1580, 1600, 1620, 1640, 1660, 1680, 1700, 1720, 1740,\n",
       "       1760, 1780, 1800, 1820, 1840, 1860, 1880, 1900, 1920, 1940, 1960,\n",
       "       1980, 2000, 2020, 2040, 2060, 2080])"
      ]
     },
     "execution_count": 282,
     "metadata": {},
     "output_type": "execute_result"
    }
   ],
   "source": [
    "counter"
   ]
  },
  {
   "cell_type": "markdown",
   "metadata": {},
   "source": [
    "remove duplicate labels from labeled data "
   ]
  },
  {
   "cell_type": "code",
   "execution_count": 283,
   "metadata": {},
   "outputs": [],
   "source": [
    "def remove_duplicates(labeled_data, labels, counter):\n",
    "    for i in range(len(labels)):\n",
    "        duplicate_label = [item for item, count in Counter(labels[i]).items() if count > 1]\n",
    "        if duplicate_label:\n",
    "            duplicates = labeled_data[i][labeled_data[i] == duplicate_label]\n",
    "            duplicate_coordinates = np.where(labeled_data[i,:] == duplicate_label)\n",
    "            x = duplicate_coordinates[0][1:]\n",
    "            y = duplicate_coordinates[1][1:]\n",
    "            labeled_data[i][x,y] = 0\n",
    "            #labeled_data[i][duplicate_loc[1:]] = 0\n",
    "    return labeled_data"
   ]
  },
  {
   "cell_type": "code",
   "execution_count": 284,
   "metadata": {},
   "outputs": [],
   "source": [
    "nondul_labeled_data = remove_duplicates(labeled_data, labels, counter)"
   ]
  },
  {
   "cell_type": "code",
   "execution_count": 285,
   "metadata": {},
   "outputs": [
    {
     "data": {
      "text/plain": [
       "(105, 840, 840)"
      ]
     },
     "execution_count": 285,
     "metadata": {},
     "output_type": "execute_result"
    }
   ],
   "source": [
    "nondul_labeled_data.shape"
   ]
  },
  {
   "cell_type": "markdown",
   "metadata": {},
   "source": [
    "check if labels are complete for each piece of non-duplicate labeled data"
   ]
  },
  {
   "cell_type": "code",
   "execution_count": 286,
   "metadata": {
    "collapsed": true
   },
   "outputs": [],
   "source": [
    "def check_completeness(data, counter):\n",
    "    label = np.array([1,2,3,4,5,6,7,8])\n",
    "    for i in range(len(data)):\n",
    "        if np.isin(label, data[i]).sum(0) != len(label):\n",
    "            print(data[i][data[i] != 0])\n",
    "            print(counter[i])"
   ]
  },
  {
   "cell_type": "code",
   "execution_count": 287,
   "metadata": {},
   "outputs": [],
   "source": [
    "check_completeness(nondul_labeled_data, counter)"
   ]
  },
  {
   "cell_type": "markdown",
   "metadata": {},
   "source": [
    "fix the dataset based on this completeness information using ilastik"
   ]
  },
  {
   "cell_type": "code",
   "execution_count": 288,
   "metadata": {},
   "outputs": [
    {
     "name": "stdout",
     "output_type": "stream",
     "text": [
      "[1 2 4 7 3 6 8 5]\n",
      "[1 7 8 2 4 3 6 5]\n",
      "[1 8 7 2 5 4 3 6]\n",
      "[3 1 8 2 7 4 5 6]\n",
      "[1 2 8 5 7 3 6 4]\n",
      "[1 5 2 6 3 4 8 7]\n",
      "[5 3 6 1 2 4 8 7]\n",
      "[3 6 5 4 2 1 8 7]\n",
      "[4 3 2 6 1 5 7 8]\n",
      "[4 3 2 1 6 5 8 7]\n",
      "[2 4 1 3 6 7 8 5]\n",
      "[1 2 7 4 6 5 8 3]\n",
      "[1 2 7 5 6 3 8 4]\n",
      "[2 1 8 7 3 4 6 5]\n",
      "[2 1 3 7 8 4 5 6]\n",
      "[2 1 3 4 8 7 5 6]\n",
      "[2 1 5 4 6 3 8 7]\n",
      "[5 2 6 1 4 7 8 3]\n",
      "[5 6 2 1 4 7 3 8]\n",
      "[5 6 7 2 3 1 8 4]\n",
      "[5 6 7 8 3 2 4 1]\n",
      "[5 6 7 8 3 4 2 1]\n",
      "[5 6 7 8 4 3 1 2]\n",
      "[5 6 7 8 2 1 4 3]\n",
      "[7 5 6 8 2 4 3 1]\n",
      "[5 6 7 8 2 1 3 4]\n",
      "[5 6 7 8 2 1 3 4]\n",
      "[7 6 5 8 2 3 1 4]\n",
      "[8 7 6 5 1 2 3 4]\n",
      "[8 7 6 5 1 2 3 4]\n",
      "[8 7 6 5 2 3 1 4]\n",
      "[8 7 6 3 1 2 5 4]\n",
      "[8 7 1 3 2 6 4 5]\n",
      "[1 8 3 2 7 4 5 6]\n",
      "[3 1 4 2 7 8 6 5]\n",
      "[3 4 1 7 2 8 5 6]\n",
      "[3 4 7 2 1 8 5 6]\n",
      "[3 4 8 7 2 1 5 6]\n",
      "[4 3 8 7 2 1 5 6]\n",
      "[3 4 5 6 8 2 7 1]\n",
      "[3 4 5 6 8 2 7 1]\n",
      "[4 3 5 6 2 8 1 7]\n",
      "[5 4 6 3 2 8 7 1]\n",
      "[5 6 4 3 1 2 7 8]\n",
      "[6 5 1 4 3 2 7 8]\n",
      "[6 1 5 2 7 8 4 3]\n",
      "[1 2 6 7 5 8 4 3]\n",
      "[1 2 8 7 6 5 4 3]\n",
      "[1 2 8 7 6 5 4 3]\n",
      "[1 2 8 7 6 5 3 4]\n",
      "[2 1 8 7 6 3 5 4]\n",
      "[2 1 8 7 6 3 5 4]\n",
      "[2 1 8 7 6 5 3 4]\n",
      "[2 1 8 6 7 3 5 4]\n",
      "[2 1 8 3 7 4 5 6]\n",
      "[3 4 2 1 7 8 5 6]\n",
      "[3 4 1 2 7 8 5 6]\n",
      "[3 4 7 2 1 8 5 6]\n",
      "[3 4 5 7 6 8 2 1]\n",
      "[3 5 4 6 8 7 2 1]\n",
      "[3 5 6 4 8 2 7 1]\n",
      "[3 5 4 6 2 1 8 7]\n",
      "[5 6 4 3 2 1 8 7]\n",
      "[6 5 4 3 2 1 8 7]\n",
      "[6 5 4 3 2 1 8 7]\n",
      "[5 6 4 2 3 7 1 8]\n",
      "[5 6 3 4 2 7 1 8]\n",
      "[5 6 3 4 7 2 1 8]\n",
      "[5 6 3 4 7 8 1 2]\n",
      "[5 6 3 4 7 8 2 1]\n",
      "[6 5 3 4 7 8 2 1]\n",
      "[5 6 4 3 7 8 2 1]\n",
      "[5 6 4 3 7 8 1 2]\n",
      "[3 6 5 7 4 8 1 2]\n",
      "[5 3 6 7 4 8 1 2]\n",
      "[6 8 3 7 5 4 1 2]\n",
      "[8 7 4 3 6 5 2 1]\n",
      "[8 7 4 3 2 6 5 1]\n",
      "[8 7 4 3 2 6 1 5]\n",
      "[8 7 4 3 2 1 6 5]\n",
      "[8 7 4 3 5 2 6 1]\n",
      "[7 8 5 4 6 3 2 1]\n",
      "[7 8 3 5 4 6 1 2]\n",
      "[8 7 3 4 6 5 2 1]\n",
      "[3 8 4 7 6 5 2 1]\n",
      "[3 4 8 7 6 2 1 5]\n",
      "[3 4 8 7 1 2 6 5]\n",
      "[4 3 8 1 7 2 6 5]\n",
      "[4 3 1 2 8 7 6 5]\n",
      "[4 3 1 2 8 6 7 5]\n",
      "[1 2 4 3 8 6 5 7]\n",
      "[1 2 3 4 5 6 8 7]\n",
      "[1 2 5 4 3 6 7 8]\n",
      "[1 2 5 6 7 3 4 8]\n",
      "[1 5 2 6 3 4 7 8]\n",
      "[1 6 2 5 3 4 7 8]\n",
      "[2 1 7 3 6 4 8 5]\n",
      "[7 2 1 8 4 3 6 5]\n",
      "[7 8 1 2 4 3 6 5]\n",
      "[8 1 2 7 4 3 6 5]\n",
      "[7 8 2 1 4 6 3 5]\n",
      "[8 7 2 1 6 4 3 5]\n",
      "[8 7 2 1 3 6 4 5]\n",
      "[8 7 2 1 6 3 4 5]\n",
      "[2 8 1 3 7 4 6 5]\n"
     ]
    }
   ],
   "source": [
    "for i in range(len(nondul_labeled_data)):\n",
    "    print(nondul_labeled_data[i][nondul_labeled_data[i] != 0])"
   ]
  },
  {
   "cell_type": "markdown",
   "metadata": {},
   "source": [
    "save non-duplicate labeled data and its indeces as '.h' files"
   ]
  },
  {
   "cell_type": "code",
   "execution_count": 297,
   "metadata": {},
   "outputs": [],
   "source": [
    "save_path_name_first = 'clean_labeled_data.h5'\n",
    "save_path_name_second = 'clean_labeled_data_indeces.h5'\n",
    "dd.io.save(save_file_name_first, nondul_labeled_data)\n",
    "dd.io.save(save_file_name_second, counter)"
   ]
  }
 ],
 "metadata": {
  "kernelspec": {
   "display_name": "Python 3",
   "language": "python",
   "name": "python3"
  },
  "language_info": {
   "codemirror_mode": {
    "name": "ipython",
    "version": 3
   },
   "file_extension": ".py",
   "mimetype": "text/x-python",
   "name": "python",
   "nbconvert_exporter": "python",
   "pygments_lexer": "ipython3",
   "version": "3.6.3"
  }
 },
 "nbformat": 4,
 "nbformat_minor": 2
}
